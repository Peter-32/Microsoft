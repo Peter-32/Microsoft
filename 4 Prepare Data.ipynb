{
 "cells": [
  {
   "cell_type": "code",
   "execution_count": 2,
   "metadata": {},
   "outputs": [],
   "source": [
    "# Imports\n",
    "import pandas as pd\n",
    "import numpy as np\n",
    "from IPython.display import SVG\n",
    "from graphviz import Source\n",
    "from fuzzywuzzy import fuzz\n",
    "from IPython.display import clear_output\n",
    "import seaborn as sns\n",
    "import timeit\n",
    "import matplotlib.pyplot as plt\n",
    "import ipywidgets as widgets\n",
    "from ipywidgets import interact, interact_manual\n",
    "from scipy.stats import mstats\n",
    "from pandasql import sqldf\n",
    "from sklearn.base import BaseEstimator, TransformerMixin\n",
    "from sklearn.feature_selection import SelectKBest\n",
    "from sklearn.feature_selection import f_regression\n",
    "from sklearn.preprocessing import StandardScaler, OneHotEncoder\n",
    "from sklearn import linear_model\n",
    "from sklearn.pipeline import Pipeline\n",
    "from sklearn.model_selection import train_test_split, cross_val_score\n",
    "from sklearn.model_selection import cross_val_predict, KFold, GridSearchCV\n",
    "from sklearn.metrics import mean_squared_error\n",
    "from sklearn.metrics import roc_auc_score\n",
    "from sklearn.metrics import roc_curve\n",
    "from sklearn.pipeline import FeatureUnion\n",
    "from sklearn.model_selection import ParameterGrid\n",
    "from sklearn import tree\n",
    "from sklearn.tree import export_graphviz\n",
    "from scipy import stats\n",
    "from sklearn import preprocessing\n",
    "from sklearn.metrics import confusion_matrix\n",
    "\n",
    "# Options\n",
    "pd.set_option('display.max_columns', 500)\n",
    "pd.set_option('display.width', 1000)\n",
    "np.warnings.filterwarnings('ignore')\n",
    "%matplotlib inline\n"
   ]
  },
  {
   "cell_type": "code",
   "execution_count": 3,
   "metadata": {},
   "outputs": [
    {
     "name": "stdout",
     "output_type": "stream",
     "text": [
      "Read in training set\n",
      "Get int and floats\n",
      "Downcast ints and floats\n"
     ]
    }
   ],
   "source": [
    "column_dtypes = {   'ProductName': 'category',\n",
    "                    'EngineVersion': 'category',\n",
    "                    'AppVersion': 'category',\n",
    "                    'AvSigVersion': 'category',\n",
    "                    'Platform': 'category',\n",
    "                    'Processor': 'category',\n",
    "                    'OsVer': 'category',\n",
    "                    'OsPlatformSubRelease': 'category',\n",
    "                    'OsBuildLab': 'category',\n",
    "                    'SkuEdition': 'category',\n",
    "                    'PuaMode': 'category',\n",
    "                    'SmartScreen': 'category',\n",
    "                    'Census_MDC2FormFactor': 'category',\n",
    "                    'Census_DeviceFamily': 'category',\n",
    "                    'Census_ProcessorClass': 'category',\n",
    "                    'Census_PrimaryDiskTypeName': 'category',\n",
    "                    'Census_ChassisTypeName': 'category',\n",
    "                    'Census_PowerPlatformRoleName': 'category',\n",
    "                    'Census_InternalBatteryType': 'category',\n",
    "                    'Census_OSVersion': 'category',\n",
    "                    'Census_OSArchitecture': 'category',\n",
    "                    'Census_OSBranch': 'category',\n",
    "                    'Census_OSEdition': 'category',\n",
    "                    'Census_OSSkuName': 'category',\n",
    "                    'Census_OSInstallTypeName': 'category',\n",
    "                    'Census_OSWUAutoUpdateOptionsName': 'category',\n",
    "                    'Census_GenuineStateName': 'category',\n",
    "                    'Census_ActivationChannel': 'category',\n",
    "                    'Census_FlightRing': 'category',\n",
    "                    'DefaultBrowsersIdentifier': 'category',\n",
    "                    'AVProductStatesIdentifier': 'category',\n",
    "                    'CountryIdentifier': 'category',\n",
    "                    'CityIdentifier': 'category',\n",
    "                    'OrganizationIdentifier': 'category',\n",
    "                    'GeoNameIdentifier': 'category',\n",
    "                    'LocaleEnglishNameIdentifier': 'category',\n",
    "                    'IeVerIdentifier': 'category',\n",
    "                    'Census_OEMNameIdentifier': 'category',\n",
    "                    'Census_OEMModelIdentifier': 'category',\n",
    "                    'Census_ProcessorManufacturerIdentifier': 'category',\n",
    "                    'Census_ProcessorModelIdentifier': 'category',\n",
    "                    'Census_OSInstallLanguageIdentifier': 'category',\n",
    "                    'Census_OSUILocaleIdentifier': 'category',\n",
    "                    'Census_FirmwareManufacturerIdentifier': 'category',\n",
    "                    'Census_FirmwareVersionIdentifier': 'category',\n",
    "                    'Wdft_RegionIdentifier': 'category'\n",
    "                }\n",
    "\n",
    "# Read in training set\n",
    "print(\"Read in training set\")\n",
    "df = pd.read_csv(\"data/train.csv\",dtype=column_dtypes, nrows=1000000) # For training / dev use this size dataset, at end use all of it\n",
    "\n",
    "# Get int and floats\n",
    "print(\"Get int and floats\")\n",
    "converted_int = df.select_dtypes(include=['int'])\n",
    "converted_float = df.select_dtypes(include=['float'])\n",
    "\n",
    "# Downcast ints and floats\n",
    "print(\"Downcast ints and floats\")\n",
    "df[converted_int.columns] = converted_int.apply(pd.to_numeric,downcast='signed')\n",
    "df[converted_float.columns] = converted_float.apply(pd.to_numeric,downcast='float')\n"
   ]
  },
  {
   "cell_type": "markdown",
   "metadata": {},
   "source": [
    "# Reusable Code"
   ]
  },
  {
   "cell_type": "code",
   "execution_count": 4,
   "metadata": {},
   "outputs": [],
   "source": [
    "def my_score_function(pipe):\n",
    "    # Fit\n",
    "    pipe.fit(train_X, train_y)\n",
    "    # decision function\n",
    "    y_scores = pipe.decision_function(dev_X)\n",
    "\n",
    "    # ROC Curve\n",
    "    fpr, tpr, thresholds = roc_curve(dev_y, y_scores)\n",
    "\n",
    "    # Plot ROC Curve\n",
    "    def plot_roc_curve(fpr, tpr, label=None):\n",
    "        plt.plot(fpr, tpr, linewidth=2, label=label)\n",
    "        plt.plot([0, 1], [0, 1], 'k--')\n",
    "        plt.axis([0, 1, 0, 1])\n",
    "        plt.xlabel('False Positive Rate')\n",
    "        plt.ylabel('True Positive Rate')\n",
    "    plot_roc_curve(fpr, tpr)\n",
    "    plt.show()\n",
    "    # Print ROC AUC Score\n",
    "    print(\"AUC = \", roc_auc_score(dev_y, y_scores))"
   ]
  },
  {
   "cell_type": "code",
   "execution_count": 5,
   "metadata": {},
   "outputs": [],
   "source": [
    "simple_clf = linear_model.RidgeClassifier(alpha=1.0)\n"
   ]
  },
  {
   "cell_type": "code",
   "execution_count": 6,
   "metadata": {},
   "outputs": [],
   "source": [
    "simple_tree_clf = tree.DecisionTreeClassifier(max_depth=3)\n"
   ]
  },
  {
   "cell_type": "code",
   "execution_count": 7,
   "metadata": {},
   "outputs": [],
   "source": [
    "def try_param_grid(pipe, param_grid):\n",
    "    best_score = 0\n",
    "    for g in ParameterGrid(param_grid):\n",
    "        pipe.set_params(**g)    \n",
    "        print(\"Fitting\")    \n",
    "        pipe.fit(train_X, train_y)\n",
    "        y_scores = pipe.decision_function(dev_X)\n",
    "        auc = roc_auc_score(dev_y, y_scores)\n",
    "        if auc > best_score:\n",
    "            best_score = auc\n",
    "            best_grid = g\n",
    "\n",
    "    print (\"AUC\" , best_score)\n",
    "    print (\"Grid:\", best_grid)\n",
    "    return best_score, best_grid\n"
   ]
  },
  {
   "cell_type": "markdown",
   "metadata": {},
   "source": [
    "# Datasets"
   ]
  },
  {
   "cell_type": "code",
   "execution_count": 8,
   "metadata": {},
   "outputs": [
    {
     "data": {
      "text/plain": [
       "((800000, 83), (200000, 83))"
      ]
     },
     "execution_count": 8,
     "metadata": {},
     "output_type": "execute_result"
    }
   ],
   "source": [
    "# Ordered split\n",
    "_80_percent = int(df.shape[0] * .80)\n",
    "train, dev = df.iloc[0:_80_percent], df.iloc[_80_percent:]\n",
    "\n",
    "# Print Shape\n",
    "train.shape, dev.shape"
   ]
  },
  {
   "cell_type": "code",
   "execution_count": 9,
   "metadata": {},
   "outputs": [
    {
     "name": "stdout",
     "output_type": "stream",
     "text": [
      "(800000, 82) (800000, 1) (200000, 82) (200000, 1)\n"
     ]
    }
   ],
   "source": [
    "train_X = train.drop([\"HasDetections\"], axis=1).values\n",
    "train_y = train[['HasDetections']].values\n",
    "dev_X = dev.drop([\"HasDetections\"], axis=1).values\n",
    "dev_y = dev[['HasDetections']].values\n",
    "print(train_X.shape, train_y.shape, dev_X.shape, dev_y.shape)"
   ]
  },
  {
   "cell_type": "code",
   "execution_count": 10,
   "metadata": {},
   "outputs": [
    {
     "name": "stdout",
     "output_type": "stream",
     "text": [
      "0 MachineIdentifierIdx\n",
      "1 ProductNameIdx\n",
      "2 EngineVersionIdx\n",
      "3 AppVersionIdx\n",
      "4 AvSigVersionIdx\n",
      "5 IsBetaIdx\n",
      "6 RtpStateBitfieldIdx\n",
      "7 IsSxsPassiveModeIdx\n",
      "8 DefaultBrowsersIdentifierIdx\n",
      "9 AVProductStatesIdentifierIdx\n",
      "10 AVProductsInstalledIdx\n",
      "11 AVProductsEnabledIdx\n",
      "12 HasTpmIdx\n",
      "13 CountryIdentifierIdx\n",
      "14 CityIdentifierIdx\n",
      "15 OrganizationIdentifierIdx\n",
      "16 GeoNameIdentifierIdx\n",
      "17 LocaleEnglishNameIdentifierIdx\n",
      "18 PlatformIdx\n",
      "19 ProcessorIdx\n",
      "20 OsVerIdx\n",
      "21 OsBuildIdx\n",
      "22 OsSuiteIdx\n",
      "23 OsPlatformSubReleaseIdx\n",
      "24 OsBuildLabIdx\n",
      "25 SkuEditionIdx\n",
      "26 IsProtectedIdx\n",
      "27 AutoSampleOptInIdx\n",
      "28 PuaModeIdx\n",
      "29 SModeIdx\n",
      "30 IeVerIdentifierIdx\n",
      "31 SmartScreenIdx\n",
      "32 FirewallIdx\n",
      "33 UacLuaenableIdx\n",
      "34 Census_MDC2FormFactorIdx\n",
      "35 Census_DeviceFamilyIdx\n",
      "36 Census_OEMNameIdentifierIdx\n",
      "37 Census_OEMModelIdentifierIdx\n",
      "38 Census_ProcessorCoreCountIdx\n",
      "39 Census_ProcessorManufacturerIdentifierIdx\n",
      "40 Census_ProcessorModelIdentifierIdx\n",
      "41 Census_ProcessorClassIdx\n",
      "42 Census_PrimaryDiskTotalCapacityIdx\n",
      "43 Census_PrimaryDiskTypeNameIdx\n",
      "44 Census_SystemVolumeTotalCapacityIdx\n",
      "45 Census_HasOpticalDiskDriveIdx\n",
      "46 Census_TotalPhysicalRAMIdx\n",
      "47 Census_ChassisTypeNameIdx\n",
      "48 Census_InternalPrimaryDiagonalDisplaySizeInInchesIdx\n",
      "49 Census_InternalPrimaryDisplayResolutionHorizontalIdx\n",
      "50 Census_InternalPrimaryDisplayResolutionVerticalIdx\n",
      "51 Census_PowerPlatformRoleNameIdx\n",
      "52 Census_InternalBatteryTypeIdx\n",
      "53 Census_InternalBatteryNumberOfChargesIdx\n",
      "54 Census_OSVersionIdx\n",
      "55 Census_OSArchitectureIdx\n",
      "56 Census_OSBranchIdx\n",
      "57 Census_OSBuildNumberIdx\n",
      "58 Census_OSBuildRevisionIdx\n",
      "59 Census_OSEditionIdx\n",
      "60 Census_OSSkuNameIdx\n",
      "61 Census_OSInstallTypeNameIdx\n",
      "62 Census_OSInstallLanguageIdentifierIdx\n",
      "63 Census_OSUILocaleIdentifierIdx\n",
      "64 Census_OSWUAutoUpdateOptionsNameIdx\n",
      "65 Census_IsPortableOperatingSystemIdx\n",
      "66 Census_GenuineStateNameIdx\n",
      "67 Census_ActivationChannelIdx\n",
      "68 Census_IsFlightingInternalIdx\n",
      "69 Census_IsFlightsDisabledIdx\n",
      "70 Census_FlightRingIdx\n",
      "71 Census_ThresholdOptInIdx\n",
      "72 Census_FirmwareManufacturerIdentifierIdx\n",
      "73 Census_FirmwareVersionIdentifierIdx\n",
      "74 Census_IsSecureBootEnabledIdx\n",
      "75 Census_IsWIMBootEnabledIdx\n",
      "76 Census_IsVirtualDeviceIdx\n",
      "77 Census_IsTouchEnabledIdx\n",
      "78 Census_IsPenCapableIdx\n",
      "79 Census_IsAlwaysOnAlwaysConnectedCapableIdx\n",
      "80 Wdft_IsGamerIdx\n",
      "81 Wdft_RegionIdentifierIdx\n",
      "82 HasDetectionsIdx\n"
     ]
    }
   ],
   "source": [
    "def print_indices():\n",
    "    i = 0\n",
    "    for column in df.columns:\n",
    "        print(i, \"{}Idx\".format(column))\n",
    "        i = i + 1\n",
    "print_indices()"
   ]
  },
  {
   "cell_type": "markdown",
   "metadata": {},
   "source": [
    "# Model 1 - AV Products Installed"
   ]
  },
  {
   "cell_type": "code",
   "execution_count": 11,
   "metadata": {},
   "outputs": [],
   "source": [
    "AVProductsInstalledIdx = 10\n",
    "\n",
    "class GetAndImputeAVProductsInstalled(BaseEstimator, TransformerMixin):\n",
    "    def __init__(self, uses_impute_average=True):\n",
    "        self.uses_impute_average = uses_impute_average\n",
    "        self.impute_value = None\n",
    "        \n",
    "    def fit(self, X, y=None):\n",
    "        value = X[:, AVProductsInstalledIdx].astype(float)\n",
    "        if self.uses_impute_average:\n",
    "            self.impute_value = np.nanmean(value)\n",
    "        else:\n",
    "            self.impute_value = 2.0\n",
    "        return self\n",
    "    \n",
    "    def transform(self, X, y=None):\n",
    "        value = X[:, AVProductsInstalledIdx].astype(float)\n",
    "        value[np.isnan(value)] = self.impute_value\n",
    "        return np.c_[value]\n"
   ]
  },
  {
   "cell_type": "code",
   "execution_count": 31,
   "metadata": {},
   "outputs": [
    {
     "name": "stdout",
     "output_type": "stream",
     "text": [
      "Fitting\n",
      "Fitting\n",
      "AUC 0.5694230999815851\n",
      "Grid: {'get_and_impute_av_products_installed__uses_impute_average': False}\n"
     ]
    },
    {
     "data": {
      "image/png": "[encoded data removed]",
      "text/plain": [
       "<Figure size 432x288 with 1 Axes>"
      ]
     },
     "metadata": {
      "needs_background": "light"
     },
     "output_type": "display_data"
    },
    {
     "name": "stdout",
     "output_type": "stream",
     "text": [
      "AUC =  0.5694230999815851\n"
     ]
    }
   ],
   "source": [
    "# Pipeline\n",
    "pipe = Pipeline([\n",
    "    ('get_and_impute_av_products_installed', GetAndImputeAVProductsInstalled()),\n",
    "    ('clf', simple_clf)\n",
    "])\n",
    "\n",
    "# # Parameters\n",
    "param_grid = [{'get_and_impute_av_products_installed__uses_impute_average': [True, False]}]\n",
    "best_score, best_grid = try_param_grid(pipe, param_grid)\n",
    "\n",
    "pipe.set_params(**best_grid)\n",
    "my_score_function(pipe)"
   ]
  },
  {
   "cell_type": "markdown",
   "metadata": {},
   "source": [
    "# Model 2 - Monitor Size"
   ]
  },
  {
   "cell_type": "code",
   "execution_count": 49,
   "metadata": {},
   "outputs": [],
   "source": [
    "Census_InternalPrimaryDiagonalDisplaySizeInInchesIdx = 48\n",
    "\n",
    "class GetDiagonalMonitorFeatures(BaseEstimator, TransformerMixin):\n",
    "    def __init__(self, impute_method=\"mean\", \n",
    "                 add_is_tiny_monitor_feature=True,\n",
    "                 add_is_large_monitor_feature=True,\n",
    "                 drop_original_feature=False                 \n",
    "                ):\n",
    "        # impute is mean, median, or 13.9\n",
    "        self.impute_method = impute_method\n",
    "        self.add_is_tiny_monitor_feature = add_is_tiny_monitor_feature\n",
    "        self.add_is_large_monitor_feature = add_is_large_monitor_feature\n",
    "        self.drop_original_feature = drop_original_feature\n",
    "        self.impute_value = None\n",
    "        \n",
    "    def fit(self, X, y=None):\n",
    "        value = X[:, Census_InternalPrimaryDiagonalDisplaySizeInInchesIdx].astype(float)\n",
    "        if self.impute_method == \"mean\":\n",
    "            self.impute_value = np.nanmean(value)\n",
    "        elif self.impute_method == \"median\":\n",
    "            self.impute_value = np.nanmedian(value)\n",
    "        else:\n",
    "            self.impute_value = 13.9\n",
    "        return self\n",
    "    \n",
    "    def transform(self, X, y=None):           \n",
    "        # Impute\n",
    "        value = X[:, AVProductsInstalledIdx].astype(float)\n",
    "        value[np.isnan(value)] = self.impute_value\n",
    "        \n",
    "        # Output variable\n",
    "        output = np.c_[value]\n",
    "        \n",
    "        # Tiny monitor\n",
    "        if self.add_is_tiny_monitor_feature:\n",
    "            is_tiny_monitor = value <= 13.2            \n",
    "            output = np.c_[output, is_tiny_monitor]\n",
    "        \n",
    "        # Large monitor\n",
    "        if self.add_is_large_monitor_feature:\n",
    "            is_large_monitor = value > 18.7\n",
    "            output = np.c_[output, is_large_monitor]\n",
    "                            \n",
    "        # Drop original feature (Don't allow it to be dropped if only feature)\n",
    "        if self.drop_original_feature and output.shape[1] > 1:\n",
    "            return output[:, 1:]\n",
    "        else:\n",
    "            return output        \n"
   ]
  },
  {
   "cell_type": "code",
   "execution_count": 143,
   "metadata": {},
   "outputs": [
    {
     "name": "stdout",
     "output_type": "stream",
     "text": [
      "Fitting {'get_diagonal_monitor_features__add_is_large_monitor_feature': True, 'get_diagonal_monitor_features__add_is_tiny_monitor_feature': True, 'get_diagonal_monitor_features__drop_original_feature': True, 'get_diagonal_monitor_features__impute_method': 'mean'}\n",
      "Fitting {'get_diagonal_monitor_features__add_is_large_monitor_feature': True, 'get_diagonal_monitor_features__add_is_tiny_monitor_feature': True, 'get_diagonal_monitor_features__drop_original_feature': True, 'get_diagonal_monitor_features__impute_method': 'median'}\n",
      "Fitting {'get_diagonal_monitor_features__add_is_large_monitor_feature': True, 'get_diagonal_monitor_features__add_is_tiny_monitor_feature': True, 'get_diagonal_monitor_features__drop_original_feature': True, 'get_diagonal_monitor_features__impute_method': '13.9'}\n",
      "Fitting {'get_diagonal_monitor_features__add_is_large_monitor_feature': True, 'get_diagonal_monitor_features__add_is_tiny_monitor_feature': True, 'get_diagonal_monitor_features__drop_original_feature': False, 'get_diagonal_monitor_features__impute_method': 'mean'}\n",
      "Fitting {'get_diagonal_monitor_features__add_is_large_monitor_feature': True, 'get_diagonal_monitor_features__add_is_tiny_monitor_feature': True, 'get_diagonal_monitor_features__drop_original_feature': False, 'get_diagonal_monitor_features__impute_method': 'median'}\n",
      "Fitting {'get_diagonal_monitor_features__add_is_large_monitor_feature': True, 'get_diagonal_monitor_features__add_is_tiny_monitor_feature': True, 'get_diagonal_monitor_features__drop_original_feature': False, 'get_diagonal_monitor_features__impute_method': '13.9'}\n",
      "Fitting {'get_diagonal_monitor_features__add_is_large_monitor_feature': True, 'get_diagonal_monitor_features__add_is_tiny_monitor_feature': False, 'get_diagonal_monitor_features__drop_original_feature': True, 'get_diagonal_monitor_features__impute_method': 'mean'}\n",
      "Fitting {'get_diagonal_monitor_features__add_is_large_monitor_feature': True, 'get_diagonal_monitor_features__add_is_tiny_monitor_feature': False, 'get_diagonal_monitor_features__drop_original_feature': True, 'get_diagonal_monitor_features__impute_method': 'median'}\n",
      "Fitting {'get_diagonal_monitor_features__add_is_large_monitor_feature': True, 'get_diagonal_monitor_features__add_is_tiny_monitor_feature': False, 'get_diagonal_monitor_features__drop_original_feature': True, 'get_diagonal_monitor_features__impute_method': '13.9'}\n",
      "Fitting {'get_diagonal_monitor_features__add_is_large_monitor_feature': True, 'get_diagonal_monitor_features__add_is_tiny_monitor_feature': False, 'get_diagonal_monitor_features__drop_original_feature': False, 'get_diagonal_monitor_features__impute_method': 'mean'}\n",
      "Fitting {'get_diagonal_monitor_features__add_is_large_monitor_feature': True, 'get_diagonal_monitor_features__add_is_tiny_monitor_feature': False, 'get_diagonal_monitor_features__drop_original_feature': False, 'get_diagonal_monitor_features__impute_method': 'median'}\n",
      "Fitting {'get_diagonal_monitor_features__add_is_large_monitor_feature': True, 'get_diagonal_monitor_features__add_is_tiny_monitor_feature': False, 'get_diagonal_monitor_features__drop_original_feature': False, 'get_diagonal_monitor_features__impute_method': '13.9'}\n",
      "Fitting {'get_diagonal_monitor_features__add_is_large_monitor_feature': False, 'get_diagonal_monitor_features__add_is_tiny_monitor_feature': True, 'get_diagonal_monitor_features__drop_original_feature': True, 'get_diagonal_monitor_features__impute_method': 'mean'}\n",
      "Fitting {'get_diagonal_monitor_features__add_is_large_monitor_feature': False, 'get_diagonal_monitor_features__add_is_tiny_monitor_feature': True, 'get_diagonal_monitor_features__drop_original_feature': True, 'get_diagonal_monitor_features__impute_method': 'median'}\n",
      "Fitting {'get_diagonal_monitor_features__add_is_large_monitor_feature': False, 'get_diagonal_monitor_features__add_is_tiny_monitor_feature': True, 'get_diagonal_monitor_features__drop_original_feature': True, 'get_diagonal_monitor_features__impute_method': '13.9'}\n",
      "Fitting {'get_diagonal_monitor_features__add_is_large_monitor_feature': False, 'get_diagonal_monitor_features__add_is_tiny_monitor_feature': True, 'get_diagonal_monitor_features__drop_original_feature': False, 'get_diagonal_monitor_features__impute_method': 'mean'}\n",
      "Fitting {'get_diagonal_monitor_features__add_is_large_monitor_feature': False, 'get_diagonal_monitor_features__add_is_tiny_monitor_feature': True, 'get_diagonal_monitor_features__drop_original_feature': False, 'get_diagonal_monitor_features__impute_method': 'median'}\n",
      "Fitting {'get_diagonal_monitor_features__add_is_large_monitor_feature': False, 'get_diagonal_monitor_features__add_is_tiny_monitor_feature': True, 'get_diagonal_monitor_features__drop_original_feature': False, 'get_diagonal_monitor_features__impute_method': '13.9'}\n",
      "Fitting {'get_diagonal_monitor_features__add_is_large_monitor_feature': False, 'get_diagonal_monitor_features__add_is_tiny_monitor_feature': False, 'get_diagonal_monitor_features__drop_original_feature': True, 'get_diagonal_monitor_features__impute_method': 'mean'}\n",
      "Fitting {'get_diagonal_monitor_features__add_is_large_monitor_feature': False, 'get_diagonal_monitor_features__add_is_tiny_monitor_feature': False, 'get_diagonal_monitor_features__drop_original_feature': True, 'get_diagonal_monitor_features__impute_method': 'median'}\n",
      "Fitting {'get_diagonal_monitor_features__add_is_large_monitor_feature': False, 'get_diagonal_monitor_features__add_is_tiny_monitor_feature': False, 'get_diagonal_monitor_features__drop_original_feature': True, 'get_diagonal_monitor_features__impute_method': '13.9'}\n",
      "Fitting {'get_diagonal_monitor_features__add_is_large_monitor_feature': False, 'get_diagonal_monitor_features__add_is_tiny_monitor_feature': False, 'get_diagonal_monitor_features__drop_original_feature': False, 'get_diagonal_monitor_features__impute_method': 'mean'}\n",
      "Fitting {'get_diagonal_monitor_features__add_is_large_monitor_feature': False, 'get_diagonal_monitor_features__add_is_tiny_monitor_feature': False, 'get_diagonal_monitor_features__drop_original_feature': False, 'get_diagonal_monitor_features__impute_method': 'median'}\n",
      "Fitting {'get_diagonal_monitor_features__add_is_large_monitor_feature': False, 'get_diagonal_monitor_features__add_is_tiny_monitor_feature': False, 'get_diagonal_monitor_features__drop_original_feature': False, 'get_diagonal_monitor_features__impute_method': '13.9'}\n",
      "AUC 0.5693486271527028\n",
      "Grid: {'get_diagonal_monitor_features__add_is_large_monitor_feature': True, 'get_diagonal_monitor_features__add_is_tiny_monitor_feature': True, 'get_diagonal_monitor_features__drop_original_feature': False, 'get_diagonal_monitor_features__impute_method': 'mean'}\n"
     ]
    },
    {
     "data": {
      "image/png": "[encoded data removed]",
      "text/plain": [
       "<Figure size 432x288 with 1 Axes>"
      ]
     },
     "metadata": {
      "needs_background": "light"
     },
     "output_type": "display_data"
    },
    {
     "name": "stdout",
     "output_type": "stream",
     "text": [
      "AUC =  0.5693486271527028\n"
     ]
    }
   ],
   "source": [
    "# Pipeline\n",
    "pipe = Pipeline([\n",
    "    ('get_diagonal_monitor_features', GetDiagonalMonitorFeatures()),\n",
    "    ('clf', simple_clf)\n",
    "])\n",
    "\n",
    "# # Parameters\n",
    "param_grid = [{'get_diagonal_monitor_features__impute_method': [\"mean\", \"median\", \"13.9\"],\n",
    "              'get_diagonal_monitor_features__add_is_tiny_monitor_feature': [True, False],\n",
    "               'get_diagonal_monitor_features__add_is_large_monitor_feature': [True, False],\n",
    "               'get_diagonal_monitor_features__drop_original_feature': [True, False]\n",
    "              }]\n",
    "best_score, best_grid = try_param_grid(pipe, param_grid)\n",
    "\n",
    "pipe.set_params(**best_grid)\n",
    "my_score_function(pipe)"
   ]
  },
  {
   "cell_type": "markdown",
   "metadata": {},
   "source": [
    "# Model 3 - Combining"
   ]
  },
  {
   "cell_type": "code",
   "execution_count": 50,
   "metadata": {},
   "outputs": [
    {
     "data": {
      "image/png": "[encoded data removed]",
      "text/plain": [
       "<Figure size 432x288 with 1 Axes>"
      ]
     },
     "metadata": {
      "needs_background": "light"
     },
     "output_type": "display_data"
    },
    {
     "name": "stdout",
     "output_type": "stream",
     "text": [
      "AUC =  0.5694376114488261\n"
     ]
    }
   ],
   "source": [
    "pipe1 = Pipeline([\n",
    "    ('get_and_impute_av_products_installed', GetAndImputeAVProductsInstalled())\n",
    "])\n",
    "g = {'get_and_impute_av_products_installed__uses_impute_average': False}\n",
    "pipe1.set_params(**g)\n",
    "\n",
    "pipe2 = Pipeline([\n",
    "    ('get_diagonal_monitor_features', GetDiagonalMonitorFeatures())\n",
    "])\n",
    "g = {'get_diagonal_monitor_features__add_is_large_monitor_feature': False, 'get_diagonal_monitor_features__add_is_tiny_monitor_feature': False, 'get_diagonal_monitor_features__drop_original_feature': False, 'get_diagonal_monitor_features__impute_method': 'mean'}\n",
    "pipe2.set_params(**g)\n",
    "\n",
    "\n",
    "union = FeatureUnion([(\"pipe_one\", pipe1),\n",
    "                      (\"pipe_two\", pipe2)\n",
    "                     ])\n",
    "\n",
    "pipe = Pipeline([\n",
    "    ('union', union),\n",
    "    ('scale', StandardScaler()),\n",
    "    ('clf', simple_clf)  \n",
    "])\n",
    "\n",
    "my_score_function(pipe)\n",
    "    "
   ]
  },
  {
   "cell_type": "markdown",
   "metadata": {},
   "source": [
    "Learned that the first two variables are highly correlated (one way is from a scatter plot), and diagonal monitor has slightly better results when it is reduced to one variable, and has a bit of improvement with the boolean features.  Deciding to drop the monitor size anyway because the AVProductsInstalled makes more sense as a feature going forward into the test set."
   ]
  },
  {
   "cell_type": "markdown",
   "metadata": {},
   "source": [
    "# Model 4 - Is Gamer"
   ]
  },
  {
   "cell_type": "code",
   "execution_count": 100,
   "metadata": {},
   "outputs": [],
   "source": [
    "Wdft_IsGamerIdx = 80\n",
    "\n",
    "class GetIsGamerFeatures(BaseEstimator, TransformerMixin):\n",
    "    def __init__(self, add_if_null_feature=False             \n",
    "                ):\n",
    "        # impute is mean, median, or 13.9\n",
    "        self.add_if_null_feature = add_if_null_feature\n",
    "        \n",
    "    def fit(self, X, y=None):\n",
    "        return self\n",
    "    \n",
    "    def transform(self, X, y=None):           \n",
    "        value = X[:, Wdft_IsGamerIdx].astype(float)                \n",
    "        \n",
    "        is_gamer = value == 1\n",
    "        \n",
    "        # If Null Feature\n",
    "        if self.add_if_null_feature:\n",
    "            is_gamer_is_null = np.isnan(value)\n",
    "            return np.c_[is_gamer, is_gamer_is_null]\n",
    "        else:\n",
    "            return np.c_[is_gamer]                                 \n"
   ]
  },
  {
   "cell_type": "code",
   "execution_count": 104,
   "metadata": {},
   "outputs": [
    {
     "name": "stdout",
     "output_type": "stream",
     "text": [
      "Fitting\n",
      "AUC 0.5230293900576614\n",
      "Grid: {'get_is_gamer_features__add_if_null_feature': False}\n"
     ]
    },
    {
     "data": {
      "image/png": "[encoded data removed]",
      "text/plain": [
       "<Figure size 432x288 with 1 Axes>"
      ]
     },
     "metadata": {
      "needs_background": "light"
     },
     "output_type": "display_data"
    },
    {
     "name": "stdout",
     "output_type": "stream",
     "text": [
      "AUC =  0.5230293900576614\n"
     ]
    }
   ],
   "source": [
    "# Pipeline\n",
    "pipe = Pipeline([\n",
    "    ('get_is_gamer_features', GetIsGamerFeatures()),\n",
    "    ('clf', simple_clf)\n",
    "])\n",
    "\n",
    "# # Parameters\n",
    "param_grid = [{'get_is_gamer_features__add_if_null_feature': [True, False]\n",
    "              }]\n",
    "best_score, best_grid = try_param_grid(pipe, param_grid)\n",
    "\n",
    "pipe.set_params(**best_grid)\n",
    "my_score_function(pipe)"
   ]
  },
  {
   "cell_type": "markdown",
   "metadata": {},
   "source": [
    "It is a difference between .5230 and .5248 (0.0018) to include the null feature.  I will not include it for now, but come back for it later if experimenting"
   ]
  },
  {
   "cell_type": "markdown",
   "metadata": {},
   "source": [
    "# Model 5 - Combining"
   ]
  },
  {
   "cell_type": "code",
   "execution_count": 110,
   "metadata": {},
   "outputs": [
    {
     "data": {
      "image/png": "[encoded data removed]",
      "text/plain": [
       "<Figure size 432x288 with 1 Axes>"
      ]
     },
     "metadata": {
      "needs_background": "light"
     },
     "output_type": "display_data"
    },
    {
     "name": "stdout",
     "output_type": "stream",
     "text": [
      "AUC =  0.5846013754165562\n"
     ]
    }
   ],
   "source": [
    "pipe1 = Pipeline([\n",
    "    ('get_and_impute_av_products_installed', GetAndImputeAVProductsInstalled())\n",
    "])\n",
    "g = {'get_and_impute_av_products_installed__uses_impute_average': False}\n",
    "pipe1.set_params(**g)\n",
    "\n",
    "pipe2 = Pipeline([\n",
    "    ('get_is_gamer_features', GetIsGamerFeatures())\n",
    "])\n",
    "g = {'get_is_gamer_features__add_if_null_feature': False}\n",
    "pipe2.set_params(**g)\n",
    "\n",
    "\n",
    "union = FeatureUnion([(\"pipe_one\", pipe1),\n",
    "                      (\"pipe_two\", pipe2)\n",
    "                     ])\n",
    "\n",
    "pipe = Pipeline([\n",
    "    ('union', union),\n",
    "    ('scale', StandardScaler()),\n",
    "    ('clf', simple_clf)  \n",
    "])\n",
    "\n",
    "my_score_function(pipe)\n",
    "    "
   ]
  },
  {
   "cell_type": "markdown",
   "metadata": {},
   "source": [
    "AUC = .5843, an improvement of 0.015 over the original 0.5693"
   ]
  },
  {
   "cell_type": "markdown",
   "metadata": {},
   "source": [
    "I will hold out and not include is_gamer into the model yet, perhaps later on when looking to increase the score a bit more.  I don't want to complicate things until it truely seems worth it to add it.\n",
    "\n",
    "The true positive grew a bit closer, it seems gamer computers are a bit more likely to have viruses."
   ]
  },
  {
   "cell_type": "markdown",
   "metadata": {},
   "source": [
    "# Model 6"
   ]
  },
  {
   "cell_type": "code",
   "execution_count": 10,
   "metadata": {},
   "outputs": [
    {
     "data": {
      "text/html": [
       "<div>\n",
       "<style scoped>\n",
       "    .dataframe tbody tr th:only-of-type {\n",
       "        vertical-align: middle;\n",
       "    }\n",
       "\n",
       "    .dataframe tbody tr th {\n",
       "        vertical-align: top;\n",
       "    }\n",
       "\n",
       "    .dataframe thead th {\n",
       "        text-align: right;\n",
       "    }\n",
       "</style>\n",
       "<table border=\"1\" class=\"dataframe\">\n",
       "  <thead>\n",
       "    <tr style=\"text-align: right;\">\n",
       "      <th></th>\n",
       "      <th>ProductName</th>\n",
       "      <th>EngineVersion</th>\n",
       "      <th>AppVersion</th>\n",
       "      <th>AvSigVersion</th>\n",
       "      <th>DefaultBrowsersIdentifier</th>\n",
       "      <th>AVProductStatesIdentifier</th>\n",
       "      <th>CountryIdentifier</th>\n",
       "      <th>CityIdentifier</th>\n",
       "      <th>OrganizationIdentifier</th>\n",
       "      <th>GeoNameIdentifier</th>\n",
       "      <th>LocaleEnglishNameIdentifier</th>\n",
       "      <th>Platform</th>\n",
       "      <th>Processor</th>\n",
       "      <th>OsVer</th>\n",
       "      <th>OsPlatformSubRelease</th>\n",
       "      <th>OsBuildLab</th>\n",
       "      <th>SkuEdition</th>\n",
       "      <th>PuaMode</th>\n",
       "      <th>IeVerIdentifier</th>\n",
       "      <th>SmartScreen</th>\n",
       "      <th>Census_MDC2FormFactor</th>\n",
       "      <th>Census_DeviceFamily</th>\n",
       "      <th>Census_OEMNameIdentifier</th>\n",
       "      <th>Census_OEMModelIdentifier</th>\n",
       "      <th>Census_ProcessorManufacturerIdentifier</th>\n",
       "      <th>Census_ProcessorModelIdentifier</th>\n",
       "      <th>Census_ProcessorClass</th>\n",
       "      <th>Census_PrimaryDiskTypeName</th>\n",
       "      <th>Census_ChassisTypeName</th>\n",
       "      <th>Census_PowerPlatformRoleName</th>\n",
       "      <th>Census_InternalBatteryType</th>\n",
       "      <th>Census_OSVersion</th>\n",
       "      <th>Census_OSArchitecture</th>\n",
       "      <th>Census_OSBranch</th>\n",
       "      <th>Census_OSEdition</th>\n",
       "      <th>Census_OSSkuName</th>\n",
       "      <th>Census_OSInstallTypeName</th>\n",
       "      <th>Census_OSInstallLanguageIdentifier</th>\n",
       "      <th>Census_OSUILocaleIdentifier</th>\n",
       "      <th>Census_OSWUAutoUpdateOptionsName</th>\n",
       "      <th>Census_GenuineStateName</th>\n",
       "      <th>Census_ActivationChannel</th>\n",
       "      <th>Census_FlightRing</th>\n",
       "      <th>Census_FirmwareManufacturerIdentifier</th>\n",
       "      <th>Census_FirmwareVersionIdentifier</th>\n",
       "      <th>Wdft_RegionIdentifier</th>\n",
       "    </tr>\n",
       "  </thead>\n",
       "  <tbody>\n",
       "    <tr>\n",
       "      <th>count</th>\n",
       "      <td>1000000</td>\n",
       "      <td>1000000</td>\n",
       "      <td>1000000</td>\n",
       "      <td>1000000</td>\n",
       "      <td>48303</td>\n",
       "      <td>995907</td>\n",
       "      <td>1000000</td>\n",
       "      <td>963487</td>\n",
       "      <td>691064</td>\n",
       "      <td>999981</td>\n",
       "      <td>1000000</td>\n",
       "      <td>1000000</td>\n",
       "      <td>1000000</td>\n",
       "      <td>1000000</td>\n",
       "      <td>1000000</td>\n",
       "      <td>999997</td>\n",
       "      <td>1000000</td>\n",
       "      <td>262</td>\n",
       "      <td>993347</td>\n",
       "      <td>644223</td>\n",
       "      <td>1000000</td>\n",
       "      <td>1000000</td>\n",
       "      <td>989473</td>\n",
       "      <td>988687</td>\n",
       "      <td>995367</td>\n",
       "      <td>995362</td>\n",
       "      <td>4125</td>\n",
       "      <td>998544</td>\n",
       "      <td>999939</td>\n",
       "      <td>999994</td>\n",
       "      <td>290170</td>\n",
       "      <td>1000000</td>\n",
       "      <td>1000000</td>\n",
       "      <td>1000000</td>\n",
       "      <td>1000000</td>\n",
       "      <td>1000000</td>\n",
       "      <td>1000000</td>\n",
       "      <td>993300</td>\n",
       "      <td>1000000</td>\n",
       "      <td>1000000</td>\n",
       "      <td>1000000</td>\n",
       "      <td>1000000</td>\n",
       "      <td>1000000</td>\n",
       "      <td>979547</td>\n",
       "      <td>982112</td>\n",
       "      <td>965907</td>\n",
       "    </tr>\n",
       "    <tr>\n",
       "      <th>unique</th>\n",
       "      <td>6</td>\n",
       "      <td>60</td>\n",
       "      <td>95</td>\n",
       "      <td>7353</td>\n",
       "      <td>784</td>\n",
       "      <td>8192</td>\n",
       "      <td>222</td>\n",
       "      <td>50872</td>\n",
       "      <td>46</td>\n",
       "      <td>272</td>\n",
       "      <td>247</td>\n",
       "      <td>4</td>\n",
       "      <td>3</td>\n",
       "      <td>22</td>\n",
       "      <td>9</td>\n",
       "      <td>509</td>\n",
       "      <td>8</td>\n",
       "      <td>1</td>\n",
       "      <td>209</td>\n",
       "      <td>13</td>\n",
       "      <td>12</td>\n",
       "      <td>3</td>\n",
       "      <td>2003</td>\n",
       "      <td>59913</td>\n",
       "      <td>4</td>\n",
       "      <td>2513</td>\n",
       "      <td>3</td>\n",
       "      <td>4</td>\n",
       "      <td>38</td>\n",
       "      <td>10</td>\n",
       "      <td>36</td>\n",
       "      <td>333</td>\n",
       "      <td>3</td>\n",
       "      <td>20</td>\n",
       "      <td>25</td>\n",
       "      <td>24</td>\n",
       "      <td>9</td>\n",
       "      <td>39</td>\n",
       "      <td>104</td>\n",
       "      <td>6</td>\n",
       "      <td>4</td>\n",
       "      <td>6</td>\n",
       "      <td>7</td>\n",
       "      <td>382</td>\n",
       "      <td>29161</td>\n",
       "      <td>15</td>\n",
       "    </tr>\n",
       "    <tr>\n",
       "      <th>top</th>\n",
       "      <td>win8defender</td>\n",
       "      <td>1.1.15200.1</td>\n",
       "      <td>4.18.1807.18075</td>\n",
       "      <td>1.273.1420.0</td>\n",
       "      <td>239</td>\n",
       "      <td>53447</td>\n",
       "      <td>43</td>\n",
       "      <td>130775</td>\n",
       "      <td>27</td>\n",
       "      <td>277</td>\n",
       "      <td>75</td>\n",
       "      <td>windows10</td>\n",
       "      <td>x64</td>\n",
       "      <td>10.0.0.0</td>\n",
       "      <td>rs4</td>\n",
       "      <td>17134.1.amd64fre.rs4_release.180410-1804</td>\n",
       "      <td>Home</td>\n",
       "      <td>on</td>\n",
       "      <td>137</td>\n",
       "      <td>RequireAdmin</td>\n",
       "      <td>Notebook</td>\n",
       "      <td>Windows.Desktop</td>\n",
       "      <td>2668</td>\n",
       "      <td>313586</td>\n",
       "      <td>5</td>\n",
       "      <td>2697</td>\n",
       "      <td>mid</td>\n",
       "      <td>HDD</td>\n",
       "      <td>Notebook</td>\n",
       "      <td>Mobile</td>\n",
       "      <td>lion</td>\n",
       "      <td>10.0.17134.228</td>\n",
       "      <td>amd64</td>\n",
       "      <td>rs4_release</td>\n",
       "      <td>Core</td>\n",
       "      <td>CORE</td>\n",
       "      <td>UUPUpgrade</td>\n",
       "      <td>8</td>\n",
       "      <td>31</td>\n",
       "      <td>FullAuto</td>\n",
       "      <td>IS_GENUINE</td>\n",
       "      <td>Retail</td>\n",
       "      <td>Retail</td>\n",
       "      <td>142</td>\n",
       "      <td>33105</td>\n",
       "      <td>10</td>\n",
       "    </tr>\n",
       "    <tr>\n",
       "      <th>freq</th>\n",
       "      <td>989320</td>\n",
       "      <td>431547</td>\n",
       "      <td>577163</td>\n",
       "      <td>11576</td>\n",
       "      <td>5141</td>\n",
       "      <td>652936</td>\n",
       "      <td>44762</td>\n",
       "      <td>10702</td>\n",
       "      <td>470461</td>\n",
       "      <td>172045</td>\n",
       "      <td>234658</td>\n",
       "      <td>966030</td>\n",
       "      <td>908729</td>\n",
       "      <td>967607</td>\n",
       "      <td>438464</td>\n",
       "      <td>409799</td>\n",
       "      <td>618374</td>\n",
       "      <td>262</td>\n",
       "      <td>435085</td>\n",
       "      <td>483829</td>\n",
       "      <td>641426</td>\n",
       "      <td>998368</td>\n",
       "      <td>144664</td>\n",
       "      <td>34045</td>\n",
       "      <td>878040</td>\n",
       "      <td>32433</td>\n",
       "      <td>2345</td>\n",
       "      <td>650454</td>\n",
       "      <td>588678</td>\n",
       "      <td>693282</td>\n",
       "      <td>227752</td>\n",
       "      <td>158286</td>\n",
       "      <td>908763</td>\n",
       "      <td>448847</td>\n",
       "      <td>389526</td>\n",
       "      <td>389515</td>\n",
       "      <td>292561</td>\n",
       "      <td>356262</td>\n",
       "      <td>355316</td>\n",
       "      <td>442555</td>\n",
       "      <td>883396</td>\n",
       "      <td>528589</td>\n",
       "      <td>936945</td>\n",
       "      <td>302718</td>\n",
       "      <td>10035</td>\n",
       "      <td>201587</td>\n",
       "    </tr>\n",
       "  </tbody>\n",
       "</table>\n",
       "</div>"
      ],
      "text/plain": [
       "         ProductName EngineVersion       AppVersion  AvSigVersion DefaultBrowsersIdentifier AVProductStatesIdentifier CountryIdentifier CityIdentifier OrganizationIdentifier GeoNameIdentifier LocaleEnglishNameIdentifier   Platform Processor     OsVer OsPlatformSubRelease                                OsBuildLab SkuEdition PuaMode IeVerIdentifier   SmartScreen Census_MDC2FormFactor Census_DeviceFamily Census_OEMNameIdentifier Census_OEMModelIdentifier Census_ProcessorManufacturerIdentifier Census_ProcessorModelIdentifier Census_ProcessorClass Census_PrimaryDiskTypeName Census_ChassisTypeName Census_PowerPlatformRoleName Census_InternalBatteryType Census_OSVersion Census_OSArchitecture Census_OSBranch Census_OSEdition Census_OSSkuName Census_OSInstallTypeName Census_OSInstallLanguageIdentifier Census_OSUILocaleIdentifier Census_OSWUAutoUpdateOptionsName Census_GenuineStateName Census_ActivationChannel Census_FlightRing Census_FirmwareManufacturerIdentifier  \\\n",
       "count        1000000       1000000          1000000       1000000                     48303                    995907           1000000         963487                 691064            999981                     1000000    1000000   1000000   1000000              1000000                                    999997    1000000     262          993347        644223               1000000             1000000                   989473                    988687                                 995367                          995362                  4125                     998544                 999939                       999994                     290170          1000000               1000000         1000000          1000000          1000000                  1000000                             993300                     1000000                          1000000                 1000000                  1000000           1000000                                979547   \n",
       "unique             6            60               95          7353                       784                      8192               222          50872                     46               272                         247          4         3        22                    9                                       509          8       1             209            13                    12                   3                     2003                     59913                                      4                            2513                     3                          4                     38                           10                         36              333                     3              20               25               24                        9                                 39                         104                                6                       4                        6                 7                                   382   \n",
       "top     win8defender   1.1.15200.1  4.18.1807.18075  1.273.1420.0                       239                     53447                43         130775                     27               277                          75  windows10       x64  10.0.0.0                  rs4  17134.1.amd64fre.rs4_release.180410-1804       Home      on             137  RequireAdmin              Notebook     Windows.Desktop                     2668                    313586                                      5                            2697                   mid                        HDD               Notebook                       Mobile                       lion   10.0.17134.228                 amd64     rs4_release             Core             CORE               UUPUpgrade                                  8                          31                         FullAuto              IS_GENUINE                   Retail            Retail                                   142   \n",
       "freq          989320        431547           577163         11576                      5141                    652936             44762          10702                 470461            172045                      234658     966030    908729    967607               438464                                    409799     618374     262          435085        483829                641426              998368                   144664                     34045                                 878040                           32433                  2345                     650454                 588678                       693282                     227752           158286                908763          448847           389526           389515                   292561                             356262                      355316                           442555                  883396                   528589            936945                                302718   \n",
       "\n",
       "       Census_FirmwareVersionIdentifier Wdft_RegionIdentifier  \n",
       "count                            982112                965907  \n",
       "unique                            29161                    15  \n",
       "top                               33105                    10  \n",
       "freq                              10035                201587  "
      ]
     },
     "execution_count": 10,
     "metadata": {},
     "output_type": "execute_result"
    }
   ],
   "source": [
    "df.select_dtypes(include=['category']).describe()"
   ]
  },
  {
   "cell_type": "code",
   "execution_count": 20,
   "metadata": {},
   "outputs": [],
   "source": [
    "DefaultBrowsersIdentifierIdx = 8\n",
    "\n",
    "class GetDefaultBrowsersIdentifierFeatures(BaseEstimator, TransformerMixin):\n",
    "    def __init__(self, z):\n",
    "        pass\n",
    "        \n",
    "    def fit(self, X, y=None):\n",
    "        return self\n",
    "\n",
    "    def transform(self, X, y=None):        \n",
    "        value = X[:, DefaultBrowsersIdentifierIdx]\n",
    "        value = [\"missing\" if x is np.nan else x for x in value]\n",
    "        return np.c_[value]\n"
   ]
  },
  {
   "cell_type": "code",
   "execution_count": 21,
   "metadata": {},
   "outputs": [
    {
     "ename": "TypeError",
     "evalue": "__init__() missing 1 required positional argument: 'z'",
     "output_type": "error",
     "traceback": [
      "\u001b[0;31m---------------------------------------------------------------------------\u001b[0m",
      "\u001b[0;31mTypeError\u001b[0m                                 Traceback (most recent call last)",
      "\u001b[0;32m<ipython-input-21-fe1fce08c389>\u001b[0m in \u001b[0;36m<module>\u001b[0;34m\u001b[0m\n\u001b[0;32m----> 1\u001b[0;31m \u001b[0mtree_train_X\u001b[0m \u001b[0;34m=\u001b[0m \u001b[0mGetDefaultBrowsersIdentifierFeatures\u001b[0m\u001b[0;34m(\u001b[0m\u001b[0;34m)\u001b[0m\u001b[0;34m.\u001b[0m\u001b[0mfit_transform\u001b[0m\u001b[0;34m(\u001b[0m\u001b[0mtrain_X\u001b[0m\u001b[0;34m)\u001b[0m\u001b[0;34m\u001b[0m\u001b[0m\n\u001b[0m\u001b[1;32m      2\u001b[0m \u001b[0mtree_train_X\u001b[0m \u001b[0;34m=\u001b[0m \u001b[0mOneHotEncoder\u001b[0m\u001b[0;34m(\u001b[0m\u001b[0;34m)\u001b[0m\u001b[0;34m.\u001b[0m\u001b[0mfit_transform\u001b[0m\u001b[0;34m(\u001b[0m\u001b[0mtree_train_X\u001b[0m\u001b[0;34m)\u001b[0m\u001b[0;34m\u001b[0m\u001b[0m\n\u001b[1;32m      3\u001b[0m \u001b[0msimple_tree_clf\u001b[0m\u001b[0;34m.\u001b[0m\u001b[0mfit\u001b[0m\u001b[0;34m(\u001b[0m\u001b[0mtree_train_X\u001b[0m\u001b[0;34m,\u001b[0m \u001b[0mtrain_y\u001b[0m\u001b[0;34m)\u001b[0m\u001b[0;34m\u001b[0m\u001b[0m\n\u001b[1;32m      4\u001b[0m \u001b[0mgraph\u001b[0m \u001b[0;34m=\u001b[0m \u001b[0mtree\u001b[0m\u001b[0;34m.\u001b[0m\u001b[0mexport_graphviz\u001b[0m\u001b[0;34m(\u001b[0m\u001b[0msimple_tree_clf\u001b[0m\u001b[0;34m,\u001b[0m \u001b[0mout_file\u001b[0m\u001b[0;34m=\u001b[0m\u001b[0;32mNone\u001b[0m\u001b[0;34m)\u001b[0m\u001b[0;34m\u001b[0m\u001b[0m\n\u001b[1;32m      5\u001b[0m \u001b[0mSource\u001b[0m\u001b[0;34m(\u001b[0m\u001b[0mgraph\u001b[0m\u001b[0;34m)\u001b[0m\u001b[0;34m\u001b[0m\u001b[0m\n",
      "\u001b[0;31mTypeError\u001b[0m: __init__() missing 1 required positional argument: 'z'"
     ]
    }
   ],
   "source": [
    "tree_train_X = GetDefaultBrowsersIdentifierFeatures().fit_transform(train_X)\n",
    "tree_train_X = OneHotEncoder().fit_transform(tree_train_X)\n",
    "simple_tree_clf.fit(tree_train_X, train_y)\n",
    "graph = tree.export_graphviz(simple_tree_clf, out_file=None)  \n",
    "Source(graph)\n"
   ]
  },
  {
   "cell_type": "code",
   "execution_count": 22,
   "metadata": {},
   "outputs": [
    {
     "ename": "TypeError",
     "evalue": "__init__() missing 1 required positional argument: 'z'",
     "output_type": "error",
     "traceback": [
      "\u001b[0;31m---------------------------------------------------------------------------\u001b[0m",
      "\u001b[0;31mTypeError\u001b[0m                                 Traceback (most recent call last)",
      "\u001b[0;32m<ipython-input-22-37d51b102d41>\u001b[0m in \u001b[0;36m<module>\u001b[0;34m\u001b[0m\n\u001b[1;32m      1\u001b[0m \u001b[0;31m# Pipeline\u001b[0m\u001b[0;34m\u001b[0m\u001b[0;34m\u001b[0m\u001b[0m\n\u001b[1;32m      2\u001b[0m pipe = Pipeline([\n\u001b[0;32m----> 3\u001b[0;31m     \u001b[0;34m(\u001b[0m\u001b[0;34m'get_default_browsersIdentifier_features'\u001b[0m\u001b[0;34m,\u001b[0m \u001b[0mGetDefaultBrowsersIdentifierFeatures\u001b[0m\u001b[0;34m(\u001b[0m\u001b[0;34m)\u001b[0m\u001b[0;34m)\u001b[0m\u001b[0;34m,\u001b[0m\u001b[0;34m\u001b[0m\u001b[0m\n\u001b[0m\u001b[1;32m      4\u001b[0m     \u001b[0;34m(\u001b[0m\u001b[0;34m'categorical_encoder'\u001b[0m\u001b[0;34m,\u001b[0m \u001b[0mOneHotEncoder\u001b[0m\u001b[0;34m(\u001b[0m\u001b[0;34m)\u001b[0m\u001b[0;34m)\u001b[0m\u001b[0;34m,\u001b[0m\u001b[0;34m\u001b[0m\u001b[0m\n\u001b[1;32m      5\u001b[0m     \u001b[0;34m(\u001b[0m\u001b[0;34m'clf'\u001b[0m\u001b[0;34m,\u001b[0m \u001b[0msimple_tree_clf\u001b[0m\u001b[0;34m)\u001b[0m\u001b[0;34m\u001b[0m\u001b[0m\n",
      "\u001b[0;31mTypeError\u001b[0m: __init__() missing 1 required positional argument: 'z'"
     ]
    }
   ],
   "source": [
    "# Pipeline\n",
    "pipe = Pipeline([\n",
    "    ('get_default_browsersIdentifier_features', GetDefaultBrowsersIdentifierFeatures()),\n",
    "    ('categorical_encoder', OneHotEncoder()),\n",
    "    ('clf', simple_tree_clf)\n",
    "])\n",
    "\n",
    "# pipe.fit(train_X, train_y)\n",
    "\n",
    "# # Parameters\n",
    "param_grid = [{'get_default_browsersIdentifier_features__z': [True]\n",
    "              }]\n",
    "best_score, best_grid = try_param_grid(pipe, param_grid)\n",
    "\n",
    "pipe.set_params(**best_grid)\n",
    "my_score_function(pipe)\n"
   ]
  },
  {
   "cell_type": "markdown",
   "metadata": {},
   "source": [
    "# Model 7"
   ]
  },
  {
   "cell_type": "code",
   "execution_count": 29,
   "metadata": {},
   "outputs": [],
   "source": [
    "AVProductStatesIdentifierIdx = 9\n",
    "\n",
    "class GetAVProductStatesIdentifierFeatures(BaseEstimator, TransformerMixin):\n",
    "    def __init__(self):\n",
    "        pass\n",
    "        \n",
    "    def fit(self, X, y=None):\n",
    "        return self\n",
    "\n",
    "    def transform(self, X, y=None):        \n",
    "        value = X[:, AVProductStatesIdentifierIdx]\n",
    "        value = [\"missing\" if x is np.nan else x for x in value]\n",
    "        return np.c_[value]\n"
   ]
  },
  {
   "cell_type": "code",
   "execution_count": 30,
   "metadata": {},
   "outputs": [
    {
     "data": {
      "image/svg+xml": [
       "<?xml version=\"1.0\" encoding=\"UTF-8\" standalone=\"no\"?>\n",
       "<!DOCTYPE svg PUBLIC \"-//W3C//DTD SVG 1.1//EN\"\n",
       " \"http://www.w3.org/Graphics/SVG/1.1/DTD/svg11.dtd\">\n",
       "<!-- Generated by graphviz version 2.40.1 (20161225.0304)\n",
       " -->\n",
       "<!-- Title: Tree Pages: 1 -->\n",
       "<svg width=\"511pt\" height=\"358pt\"\n",
       " viewBox=\"0.00 0.00 511.04 358.00\" xmlns=\"http://www.w3.org/2000/svg\" xmlns:xlink=\"http://www.w3.org/1999/xlink\">\n",
       "<g id=\"graph0\" class=\"graph\" transform=\"scale(1 1) rotate(0) translate(4 354)\">\n",
       "<title>Tree</title>\n",
       "<polygon fill=\"#ffffff\" stroke=\"transparent\" points=\"-4,4 -4,-354 507.0371,-354 507.0371,4 -4,4\"/>\n",
       "<!-- 0 -->\n",
       "<g id=\"node1\" class=\"node\">\n",
       "<title>0</title>\n",
       "<polygon fill=\"none\" stroke=\"#000000\" points=\"412.8063,-350 251.7308,-350 251.7308,-286 412.8063,-286 412.8063,-350\"/>\n",
       "<text text-anchor=\"middle\" x=\"332.2686\" y=\"-334.8\" font-family=\"Times,serif\" font-size=\"14.00\" fill=\"#000000\">X[4758] &lt;= 0.5</text>\n",
       "<text text-anchor=\"middle\" x=\"332.2686\" y=\"-320.8\" font-family=\"Times,serif\" font-size=\"14.00\" fill=\"#000000\">gini = 0.5</text>\n",
       "<text text-anchor=\"middle\" x=\"332.2686\" y=\"-306.8\" font-family=\"Times,serif\" font-size=\"14.00\" fill=\"#000000\">samples = 800000</text>\n",
       "<text text-anchor=\"middle\" x=\"332.2686\" y=\"-292.8\" font-family=\"Times,serif\" font-size=\"14.00\" fill=\"#000000\">value = [400078, 399922]</text>\n",
       "</g>\n",
       "<!-- 1 -->\n",
       "<g id=\"node2\" class=\"node\">\n",
       "<title>1</title>\n",
       "<polygon fill=\"none\" stroke=\"#000000\" points=\"322.8063,-250 161.7308,-250 161.7308,-186 322.8063,-186 322.8063,-250\"/>\n",
       "<text text-anchor=\"middle\" x=\"242.2686\" y=\"-234.8\" font-family=\"Times,serif\" font-size=\"14.00\" fill=\"#000000\">X[6071] &lt;= 0.5</text>\n",
       "<text text-anchor=\"middle\" x=\"242.2686\" y=\"-220.8\" font-family=\"Times,serif\" font-size=\"14.00\" fill=\"#000000\">gini = 0.477</text>\n",
       "<text text-anchor=\"middle\" x=\"242.2686\" y=\"-206.8\" font-family=\"Times,serif\" font-size=\"14.00\" fill=\"#000000\">samples = 277487</text>\n",
       "<text text-anchor=\"middle\" x=\"242.2686\" y=\"-192.8\" font-family=\"Times,serif\" font-size=\"14.00\" fill=\"#000000\">value = [168400, 109087]</text>\n",
       "</g>\n",
       "<!-- 0&#45;&gt;1 -->\n",
       "<g id=\"edge1\" class=\"edge\">\n",
       "<title>0&#45;&gt;1</title>\n",
       "<path fill=\"none\" stroke=\"#000000\" d=\"M303.2966,-285.8089C295.2675,-276.8877 286.4552,-267.0963 278.0857,-257.7968\"/>\n",
       "<polygon fill=\"#000000\" stroke=\"#000000\" points=\"280.4775,-255.2223 271.1862,-250.1308 275.2744,-259.9051 280.4775,-255.2223\"/>\n",
       "<text text-anchor=\"middle\" x=\"269.8723\" y=\"-270.8962\" font-family=\"Times,serif\" font-size=\"14.00\" fill=\"#000000\">True</text>\n",
       "</g>\n",
       "<!-- 6 -->\n",
       "<g id=\"node7\" class=\"node\">\n",
       "<title>6</title>\n",
       "<polygon fill=\"none\" stroke=\"#000000\" points=\"502.8063,-243 341.7308,-243 341.7308,-193 502.8063,-193 502.8063,-243\"/>\n",
       "<text text-anchor=\"middle\" x=\"422.2686\" y=\"-227.8\" font-family=\"Times,serif\" font-size=\"14.00\" fill=\"#000000\">gini = 0.494</text>\n",
       "<text text-anchor=\"middle\" x=\"422.2686\" y=\"-213.8\" font-family=\"Times,serif\" font-size=\"14.00\" fill=\"#000000\">samples = 522513</text>\n",
       "<text text-anchor=\"middle\" x=\"422.2686\" y=\"-199.8\" font-family=\"Times,serif\" font-size=\"14.00\" fill=\"#000000\">value = [231678, 290835]</text>\n",
       "</g>\n",
       "<!-- 0&#45;&gt;6 -->\n",
       "<g id=\"edge6\" class=\"edge\">\n",
       "<title>0&#45;&gt;6</title>\n",
       "<path fill=\"none\" stroke=\"#000000\" d=\"M361.2405,-285.8089C371.3444,-274.5824 382.6883,-261.978 392.8297,-250.7098\"/>\n",
       "<polygon fill=\"#000000\" stroke=\"#000000\" points=\"395.5404,-252.9299 399.6286,-243.1555 390.3373,-248.2471 395.5404,-252.9299\"/>\n",
       "<text text-anchor=\"middle\" x=\"400.9425\" y=\"-263.921\" font-family=\"Times,serif\" font-size=\"14.00\" fill=\"#000000\">False</text>\n",
       "</g>\n",
       "<!-- 2 -->\n",
       "<g id=\"node3\" class=\"node\">\n",
       "<title>2</title>\n",
       "<polygon fill=\"none\" stroke=\"#000000\" points=\"241.8063,-150 80.7308,-150 80.7308,-86 241.8063,-86 241.8063,-150\"/>\n",
       "<text text-anchor=\"middle\" x=\"161.2686\" y=\"-134.8\" font-family=\"Times,serif\" font-size=\"14.00\" fill=\"#000000\">X[3933] &lt;= 0.5</text>\n",
       "<text text-anchor=\"middle\" x=\"161.2686\" y=\"-120.8\" font-family=\"Times,serif\" font-size=\"14.00\" fill=\"#000000\">gini = 0.476</text>\n",
       "<text text-anchor=\"middle\" x=\"161.2686\" y=\"-106.8\" font-family=\"Times,serif\" font-size=\"14.00\" fill=\"#000000\">samples = 275361</text>\n",
       "<text text-anchor=\"middle\" x=\"161.2686\" y=\"-92.8\" font-family=\"Times,serif\" font-size=\"14.00\" fill=\"#000000\">value = [167963, 107398]</text>\n",
       "</g>\n",
       "<!-- 1&#45;&gt;2 -->\n",
       "<g id=\"edge2\" class=\"edge\">\n",
       "<title>1&#45;&gt;2</title>\n",
       "<path fill=\"none\" stroke=\"#000000\" d=\"M216.1938,-185.8089C209.0398,-176.9769 201.1951,-167.2921 193.73,-158.0759\"/>\n",
       "<polygon fill=\"#000000\" stroke=\"#000000\" points=\"196.3085,-155.6984 187.2945,-150.1308 190.869,-160.1044 196.3085,-155.6984\"/>\n",
       "</g>\n",
       "<!-- 5 -->\n",
       "<g id=\"node6\" class=\"node\">\n",
       "<title>5</title>\n",
       "<polygon fill=\"none\" stroke=\"#000000\" points=\"386.3065,-143 260.2306,-143 260.2306,-93 386.3065,-93 386.3065,-143\"/>\n",
       "<text text-anchor=\"middle\" x=\"323.2686\" y=\"-127.8\" font-family=\"Times,serif\" font-size=\"14.00\" fill=\"#000000\">gini = 0.327</text>\n",
       "<text text-anchor=\"middle\" x=\"323.2686\" y=\"-113.8\" font-family=\"Times,serif\" font-size=\"14.00\" fill=\"#000000\">samples = 2126</text>\n",
       "<text text-anchor=\"middle\" x=\"323.2686\" y=\"-99.8\" font-family=\"Times,serif\" font-size=\"14.00\" fill=\"#000000\">value = [437, 1689]</text>\n",
       "</g>\n",
       "<!-- 1&#45;&gt;5 -->\n",
       "<g id=\"edge5\" class=\"edge\">\n",
       "<title>1&#45;&gt;5</title>\n",
       "<path fill=\"none\" stroke=\"#000000\" d=\"M268.3433,-185.8089C277.3494,-174.6904 287.4501,-162.2203 296.51,-151.0352\"/>\n",
       "<polygon fill=\"#000000\" stroke=\"#000000\" points=\"299.318,-153.1292 302.8926,-143.1555 293.8786,-148.7232 299.318,-153.1292\"/>\n",
       "</g>\n",
       "<!-- 3 -->\n",
       "<g id=\"node4\" class=\"node\">\n",
       "<title>3</title>\n",
       "<polygon fill=\"none\" stroke=\"#000000\" points=\"154.3064,-50 .2308,-50 .2308,0 154.3064,0 154.3064,-50\"/>\n",
       "<text text-anchor=\"middle\" x=\"77.2686\" y=\"-34.8\" font-family=\"Times,serif\" font-size=\"14.00\" fill=\"#000000\">gini = 0.472</text>\n",
       "<text text-anchor=\"middle\" x=\"77.2686\" y=\"-20.8\" font-family=\"Times,serif\" font-size=\"14.00\" fill=\"#000000\">samples = 246216</text>\n",
       "<text text-anchor=\"middle\" x=\"77.2686\" y=\"-6.8\" font-family=\"Times,serif\" font-size=\"14.00\" fill=\"#000000\">value = [152336, 93880]</text>\n",
       "</g>\n",
       "<!-- 2&#45;&gt;3 -->\n",
       "<g id=\"edge3\" class=\"edge\">\n",
       "<title>2&#45;&gt;3</title>\n",
       "<path fill=\"none\" stroke=\"#000000\" d=\"M132.3605,-85.9947C124.0555,-76.7998 114.9916,-66.7648 106.6578,-57.5381\"/>\n",
       "<polygon fill=\"#000000\" stroke=\"#000000\" points=\"109.1621,-55.0891 99.8619,-50.014 103.9674,-59.7811 109.1621,-55.0891\"/>\n",
       "</g>\n",
       "<!-- 4 -->\n",
       "<g id=\"node5\" class=\"node\">\n",
       "<title>4</title>\n",
       "<polygon fill=\"none\" stroke=\"#000000\" points=\"319.8064,-50 172.7307,-50 172.7307,0 319.8064,0 319.8064,-50\"/>\n",
       "<text text-anchor=\"middle\" x=\"246.2686\" y=\"-34.8\" font-family=\"Times,serif\" font-size=\"14.00\" fill=\"#000000\">gini = 0.497</text>\n",
       "<text text-anchor=\"middle\" x=\"246.2686\" y=\"-20.8\" font-family=\"Times,serif\" font-size=\"14.00\" fill=\"#000000\">samples = 29145</text>\n",
       "<text text-anchor=\"middle\" x=\"246.2686\" y=\"-6.8\" font-family=\"Times,serif\" font-size=\"14.00\" fill=\"#000000\">value = [15627, 13518]</text>\n",
       "</g>\n",
       "<!-- 2&#45;&gt;4 -->\n",
       "<g id=\"edge4\" class=\"edge\">\n",
       "<title>2&#45;&gt;4</title>\n",
       "<path fill=\"none\" stroke=\"#000000\" d=\"M190.5207,-85.9947C198.9247,-76.7998 208.0964,-66.7648 216.5294,-57.5381\"/>\n",
       "<polygon fill=\"#000000\" stroke=\"#000000\" points=\"219.2433,-59.7567 223.4063,-50.014 214.0763,-55.0342 219.2433,-59.7567\"/>\n",
       "</g>\n",
       "</g>\n",
       "</svg>\n"
      ],
      "text/plain": [
       "<graphviz.files.Source at 0x12ffd8e80>"
      ]
     },
     "execution_count": 30,
     "metadata": {},
     "output_type": "execute_result"
    }
   ],
   "source": [
    "tree_train_X = GetAVProductStatesIdentifierFeatures().fit_transform(train_X)\n",
    "tree_train_X = OneHotEncoder().fit_transform(tree_train_X)\n",
    "simple_tree_clf.fit(tree_train_X, train_y)\n",
    "graph = tree.export_graphviz(simple_tree_clf, out_file=None)  \n",
    "Source(graph)\n"
   ]
  },
  {
   "cell_type": "markdown",
   "metadata": {},
   "source": [
    "# Generic Tree Model"
   ]
  },
  {
   "cell_type": "code",
   "execution_count": 23,
   "metadata": {},
   "outputs": [
    {
     "data": {
      "application/vnd.jupyter.widget-view+json": {
       "model_id": "2ed74fa3bac3428589a230050a85325c",
       "version_major": 2,
       "version_minor": 0
      },
      "text/plain": [
       "interactive(children=(Dropdown(description='cat_column', options=('ProductName', 'EngineVersion', 'AppVersion'…"
      ]
     },
     "metadata": {},
     "output_type": "display_data"
    }
   ],
   "source": [
    "# Category columns\n",
    "category_columns = df.select_dtypes(include=['category']).columns\n",
    "\n",
    "# Index of columns\n",
    "idx_dict = {}\n",
    "i = 0\n",
    "for column in df.columns:\n",
    "    if column in category_columns:\n",
    "        idx_dict[column] = i\n",
    "    i = i + 1\n",
    "    \n",
    "@interact\n",
    "def univariate(cat_column=category_columns):    \n",
    "    class GetFeatures(BaseEstimator, TransformerMixin):\n",
    "        def __init__(self):\n",
    "            pass\n",
    "\n",
    "        def fit(self, X, y=None):\n",
    "            return self\n",
    "\n",
    "        def transform(self, X, y=None):        \n",
    "            value = X[:, idx_dict[cat_column]]\n",
    "            value = [\"missing\" if x is np.nan else x for x in value]\n",
    "            return np.c_[value]\n",
    "\n",
    "    tree_train_X = GetFeatures().fit_transform(train_X)\n",
    "    tree_train_X = OneHotEncoder().fit_transform(tree_train_X)\n",
    "    simple_tree_clf.fit(tree_train_X, train_y)\n",
    "    graph = tree.export_graphviz(simple_tree_clf, out_file=None)  \n",
    "    return Source(graph)\n",
    "\n"
   ]
  },
  {
   "cell_type": "markdown",
   "metadata": {},
   "source": [
    "# Next\n",
    "- Try adding one or more of these (they are in ranked order)\n",
    "    - AVProductStatesIdentifier 3/8 are useful\n",
    "    - EngineVersion   1/8 are useful\n",
    "    - SmartScreen 1/8 are useful\n",
    "    - Processor < 1/8 are useful\n",
    "    - Census_PowerPlatformRoleName 1/16 are useful\n",
    "    - Census_ActivationChannel 1/20 are useful\n",
    "\n",
    "- Try a transform that is the average y for this identifier value, also try one hot enoding and see how the performance is on the ridge clf "
   ]
  },
  {
   "cell_type": "code",
   "execution_count": 12,
   "metadata": {},
   "outputs": [],
   "source": [
    "AVProductStatesIdentifierIdx = 9\n",
    "\n",
    "class GetChosenCategoryFeatures(BaseEstimator, TransformerMixin):\n",
    "    def __init__(self, no_hyperparameters=True):\n",
    "        pass\n",
    "        \n",
    "    def fit(self, X, y=None):\n",
    "        return self\n",
    "\n",
    "    def transform(self, X, y=None):        \n",
    "        value = X[:, AVProductStatesIdentifierIdx]\n",
    "        value = [\"missing\" if x is np.nan else x for x in value]\n",
    "        return np.c_[value]\n"
   ]
  },
  {
   "cell_type": "code",
   "execution_count": 13,
   "metadata": {},
   "outputs": [
    {
     "name": "stdout",
     "output_type": "stream",
     "text": [
      "Fitting\n",
      "AUC 0.5903854894870002\n",
      "Grid: {'get_chosen_category_features__no_hyperparameters': True}\n"
     ]
    },
    {
     "data": {
      "image/png": "[encoded data removed]",
      "text/plain": [
       "<Figure size 432x288 with 1 Axes>"
      ]
     },
     "metadata": {
      "needs_background": "light"
     },
     "output_type": "display_data"
    },
    {
     "name": "stdout",
     "output_type": "stream",
     "text": [
      "AUC =  0.5903855581870817\n"
     ]
    }
   ],
   "source": [
    "# Pipeline\n",
    "pipe = Pipeline([\n",
    "    ('get_chosen_category_features', GetChosenCategoryFeatures()),\n",
    "    ('categorical_encoder', OneHotEncoder(handle_unknown=\"ignore\")),\n",
    "    ('clf', simple_clf)\n",
    "])\n",
    "\n",
    "# pipe.fit(train_X, train_y)\n",
    "\n",
    "# # Parameters\n",
    "param_grid = [{'get_chosen_category_features__no_hyperparameters': [True]\n",
    "              }]\n",
    "best_score, best_grid = try_param_grid(pipe, param_grid)\n",
    "\n",
    "pipe.set_params(**best_grid)\n",
    "my_score_function(pipe)\n"
   ]
  },
  {
   "cell_type": "markdown",
   "metadata": {},
   "source": [
    "# Combining"
   ]
  },
  {
   "cell_type": "code",
   "execution_count": null,
   "metadata": {},
   "outputs": [],
   "source": [
    "pipe1 = Pipeline([\n",
    "    ('get_chosen_category_features', GetChosenCategoryFeatures()),\n",
    "    ('categorical_encoder', OneHotEncoder(handle_unknown=\"ignore\"))\n",
    "])\n",
    "g = {'get_chosen_category_features__no_hyperparameters': True}\n",
    "pipe1.set_params(**g)\n",
    "\n",
    "pipe2 = Pipeline([\n",
    "    ('get_and_impute_av_products_installed', GetAndImputeAVProductsInstalled()),\n",
    "    ('scale', StandardScaler())    # Toggle on / off \n",
    "])\n",
    "g = {'get_and_impute_av_products_installed__uses_impute_average': False}\n",
    "pipe2.set_params(**g)\n",
    "\n",
    "\n",
    "union = FeatureUnion([(\"pipe_one\", pipe1),\n",
    "                      (\"pipe_two\", pipe2)\n",
    "                     ])\n",
    "\n",
    "pipe = Pipeline([\n",
    "    ('union', union),\n",
    "    ('clf', simple_clf)  \n",
    "])\n",
    "\n",
    "my_score_function(pipe)\n",
    "    "
   ]
  },
  {
   "cell_type": "markdown",
   "metadata": {},
   "source": [
    "# Confusion Matrix"
   ]
  },
  {
   "cell_type": "code",
   "execution_count": 99,
   "metadata": {},
   "outputs": [],
   "source": [
    "# Fit\n",
    "pipe.fit(train_X, train_y)\n",
    "\n",
    "# decision function\n",
    "y_pred = pipe.predict(dev_X)\n",
    "\n",
    "# Confusion matrix\n",
    "confusion_matrix(dev_y, y_pred)\n"
   ]
  },
  {
   "cell_type": "code",
   "execution_count": null,
   "metadata": {},
   "outputs": [],
   "source": []
  }
 ],
 "metadata": {
  "kernelspec": {
   "display_name": "commons",
   "language": "python",
   "name": "commons"
  },
  "language_info": {
   "codemirror_mode": {
    "name": "ipython",
    "version": 3
   },
   "file_extension": ".py",
   "mimetype": "text/x-python",
   "name": "python",
   "nbconvert_exporter": "python",
   "pygments_lexer": "ipython3",
   "version": "3.6.5"
  },
  "toc": {
   "base_numbering": 1,
   "nav_menu": {},
   "number_sections": true,
   "sideBar": true,
   "skip_h1_title": false,
   "title_cell": "Table of Contents",
   "title_sidebar": "Contents",
   "toc_cell": false,
   "toc_position": {},
   "toc_section_display": true,
   "toc_window_display": false
  }
 },
 "nbformat": 4,
 "nbformat_minor": 2
}
