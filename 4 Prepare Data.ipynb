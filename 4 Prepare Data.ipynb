{
 "cells": [
  {
   "cell_type": "code",
   "execution_count": 13,
   "metadata": {},
   "outputs": [],
   "source": [
    "# Imports\n",
    "import pandas as pd\n",
    "import numpy as np\n",
    "from fuzzywuzzy import fuzz\n",
    "from IPython.display import clear_output\n",
    "import seaborn as sns\n",
    "import timeit\n",
    "import matplotlib.pyplot as plt\n",
    "import ipywidgets as widgets\n",
    "from ipywidgets import interact, interact_manual\n",
    "from scipy.stats import mstats\n",
    "from pandasql import sqldf\n",
    "from sklearn.base import BaseEstimator, TransformerMixin\n",
    "from sklearn.feature_selection import SelectKBest\n",
    "from sklearn.feature_selection import f_regression\n",
    "from sklearn.preprocessing import StandardScaler\n",
    "from sklearn import linear_model\n",
    "from sklearn.pipeline import Pipeline\n",
    "from sklearn.model_selection import train_test_split, cross_val_score\n",
    "from sklearn.model_selection import cross_val_predict, KFold, GridSearchCV\n",
    "from sklearn.metrics import mean_squared_error\n",
    "from sklearn.metrics import roc_auc_score\n",
    "from sklearn.metrics import roc_curve\n",
    "from sklearn.pipeline import FeatureUnion\n",
    "from sklearn.model_selection import ParameterGrid\n",
    "\n",
    "\n",
    "# Options\n",
    "pd.set_option('display.max_columns', 500)\n",
    "pd.set_option('display.width', 1000)\n",
    "np.warnings.filterwarnings('ignore')\n",
    "%matplotlib inline\n"
   ]
  },
  {
   "cell_type": "code",
   "execution_count": 2,
   "metadata": {},
   "outputs": [
    {
     "name": "stdout",
     "output_type": "stream",
     "text": [
      "Read in training set\n",
      "Get int and floats\n",
      "Downcast ints and floats\n"
     ]
    }
   ],
   "source": [
    "column_dtypes = {   'ProductName': 'category',\n",
    "                    'EngineVersion': 'category',\n",
    "                    'AppVersion': 'category',\n",
    "                    'AvSigVersion': 'category',\n",
    "                    'Platform': 'category',\n",
    "                    'Processor': 'category',\n",
    "                    'OsVer': 'category',\n",
    "                    'OsPlatformSubRelease': 'category',\n",
    "                    'OsBuildLab': 'category',\n",
    "                    'SkuEdition': 'category',\n",
    "                    'PuaMode': 'category',\n",
    "                    'SmartScreen': 'category',\n",
    "                    'Census_MDC2FormFactor': 'category',\n",
    "                    'Census_DeviceFamily': 'category',\n",
    "                    'Census_ProcessorClass': 'category',\n",
    "                    'Census_PrimaryDiskTypeName': 'category',\n",
    "                    'Census_ChassisTypeName': 'category',\n",
    "                    'Census_PowerPlatformRoleName': 'category',\n",
    "                    'Census_InternalBatteryType': 'category',\n",
    "                    'Census_OSVersion': 'category',\n",
    "                    'Census_OSArchitecture': 'category',\n",
    "                    'Census_OSBranch': 'category',\n",
    "                    'Census_OSEdition': 'category',\n",
    "                    'Census_OSSkuName': 'category',\n",
    "                    'Census_OSInstallTypeName': 'category',\n",
    "                    'Census_OSWUAutoUpdateOptionsName': 'category',\n",
    "                    'Census_GenuineStateName': 'category',\n",
    "                    'Census_ActivationChannel': 'category',\n",
    "                    'Census_FlightRing': 'category',\n",
    "                    'DefaultBrowsersIdentifier': 'category',\n",
    "                    'AVProductStatesIdentifier': 'category',\n",
    "                    'CountryIdentifier': 'category',\n",
    "                    'CityIdentifier': 'category',\n",
    "                    'OrganizationIdentifier': 'category',\n",
    "                    'GeoNameIdentifier': 'category',\n",
    "                    'LocaleEnglishNameIdentifier': 'category',\n",
    "                    'IeVerIdentifier': 'category',\n",
    "                    'Census_OEMNameIdentifier': 'category',\n",
    "                    'Census_OEMModelIdentifier': 'category',\n",
    "                    'Census_ProcessorManufacturerIdentifier': 'category',\n",
    "                    'Census_ProcessorModelIdentifier': 'category',\n",
    "                    'Census_OSInstallLanguageIdentifier': 'category',\n",
    "                    'Census_OSUILocaleIdentifier': 'category',\n",
    "                    'Census_FirmwareManufacturerIdentifier': 'category',\n",
    "                    'Census_FirmwareVersionIdentifier': 'category',\n",
    "                    'Wdft_RegionIdentifier': 'category'\n",
    "                }\n",
    "\n",
    "# Read in training set\n",
    "print(\"Read in training set\")\n",
    "df = pd.read_csv(\"data/train.csv\",dtype=column_dtypes) # train.csv for full dataset\n",
    "\n",
    "# Get int and floats\n",
    "print(\"Get int and floats\")\n",
    "converted_int = df.select_dtypes(include=['int'])\n",
    "converted_float = df.select_dtypes(include=['float'])\n",
    "\n",
    "# Downcast ints and floats\n",
    "print(\"Downcast ints and floats\")\n",
    "df[converted_int.columns] = converted_int.apply(pd.to_numeric,downcast='signed')\n",
    "df[converted_float.columns] = converted_float.apply(pd.to_numeric,downcast='float')\n"
   ]
  },
  {
   "cell_type": "markdown",
   "metadata": {},
   "source": [
    "# Reusable Code"
   ]
  },
  {
   "cell_type": "code",
   "execution_count": 4,
   "metadata": {},
   "outputs": [],
   "source": [
    "def my_score_function(pipe):\n",
    "    # Fit\n",
    "    pipe.fit(train_X, train_y)\n",
    "    # decision function\n",
    "    y_scores = pipe.decision_function(dev_X)\n",
    "\n",
    "    # ROC Curve\n",
    "    fpr, tpr, thresholds = roc_curve(dev_y, y_scores)\n",
    "\n",
    "    # Plot ROC Curve\n",
    "    def plot_roc_curve(fpr, tpr, label=None):\n",
    "        plt.plot(fpr, tpr, linewidth=2, label=label)\n",
    "        plt.plot([0, 1], [0, 1], 'k--')\n",
    "        plt.axis([0, 1, 0, 1])\n",
    "        plt.xlabel('False Positive Rate')\n",
    "        plt.ylabel('True Positive Rate')\n",
    "    plot_roc_curve(fpr, tpr)\n",
    "    plt.show()\n",
    "    # Print ROC AUC Score\n",
    "    print(\"AUC = \", roc_auc_score(dev_y, y_scores))"
   ]
  },
  {
   "cell_type": "code",
   "execution_count": 64,
   "metadata": {},
   "outputs": [],
   "source": [
    "simple_clf = linear_model.RidgeClassifier(alpha=1.0)"
   ]
  },
  {
   "cell_type": "code",
   "execution_count": 102,
   "metadata": {},
   "outputs": [],
   "source": [
    "def try_param_grid(pipe, param_grid):\n",
    "    best_score = 0\n",
    "    for g in ParameterGrid(param_grid):\n",
    "        pipe.set_params(**g)    \n",
    "        print(\"Fitting\")    \n",
    "        pipe.fit(train_X, train_y)    \n",
    "        y_scores = pipe.decision_function(dev_X)\n",
    "        auc = roc_auc_score(dev_y, y_scores)\n",
    "        if auc > best_score:\n",
    "            best_score = auc\n",
    "            best_grid = g\n",
    "\n",
    "    print (\"AUC\" , best_score)\n",
    "    print (\"Grid:\", best_grid)\n",
    "    return best_score, best_grid\n"
   ]
  },
  {
   "cell_type": "markdown",
   "metadata": {},
   "source": [
    "# Datasets"
   ]
  },
  {
   "cell_type": "code",
   "execution_count": 7,
   "metadata": {},
   "outputs": [
    {
     "data": {
      "text/plain": [
       "((7137186, 83), (1784297, 83))"
      ]
     },
     "execution_count": 7,
     "metadata": {},
     "output_type": "execute_result"
    }
   ],
   "source": [
    "# Ordered split\n",
    "_80_percent = int(df.shape[0] * .80)\n",
    "train, dev = df.iloc[0:_80_percent], df.iloc[_80_percent:]\n",
    "\n",
    "# Print Shape\n",
    "train.shape, dev.shape"
   ]
  },
  {
   "cell_type": "code",
   "execution_count": 9,
   "metadata": {},
   "outputs": [
    {
     "name": "stdout",
     "output_type": "stream",
     "text": [
      "(7137186, 82) (7137186, 1) (1784297, 82) (1784297, 1)\n"
     ]
    }
   ],
   "source": [
    "train_X = train.drop([\"HasDetections\"], axis=1).values\n",
    "train_y = train[['HasDetections']].values\n",
    "dev_X = dev.drop([\"HasDetections\"], axis=1).values\n",
    "dev_y = dev[['HasDetections']].values\n",
    "print(train_X.shape, train_y.shape, dev_X.shape, dev_y.shape)"
   ]
  },
  {
   "cell_type": "code",
   "execution_count": 10,
   "metadata": {},
   "outputs": [
    {
     "name": "stdout",
     "output_type": "stream",
     "text": [
      "0 MachineIdentifier\n",
      "1 ProductName\n",
      "2 EngineVersion\n",
      "3 AppVersion\n",
      "4 AvSigVersion\n",
      "5 IsBeta\n",
      "6 RtpStateBitfield\n",
      "7 IsSxsPassiveMode\n",
      "8 DefaultBrowsersIdentifier\n",
      "9 AVProductStatesIdentifier\n",
      "10 AVProductsInstalled\n",
      "11 AVProductsEnabled\n",
      "12 HasTpm\n",
      "13 CountryIdentifier\n",
      "14 CityIdentifier\n",
      "15 OrganizationIdentifier\n",
      "16 GeoNameIdentifier\n",
      "17 LocaleEnglishNameIdentifier\n",
      "18 Platform\n",
      "19 Processor\n",
      "20 OsVer\n",
      "21 OsBuild\n",
      "22 OsSuite\n",
      "23 OsPlatformSubRelease\n",
      "24 OsBuildLab\n",
      "25 SkuEdition\n",
      "26 IsProtected\n",
      "27 AutoSampleOptIn\n",
      "28 PuaMode\n",
      "29 SMode\n",
      "30 IeVerIdentifier\n",
      "31 SmartScreen\n",
      "32 Firewall\n",
      "33 UacLuaenable\n",
      "34 Census_MDC2FormFactor\n",
      "35 Census_DeviceFamily\n",
      "36 Census_OEMNameIdentifier\n",
      "37 Census_OEMModelIdentifier\n",
      "38 Census_ProcessorCoreCount\n",
      "39 Census_ProcessorManufacturerIdentifier\n",
      "40 Census_ProcessorModelIdentifier\n",
      "41 Census_ProcessorClass\n",
      "42 Census_PrimaryDiskTotalCapacity\n",
      "43 Census_PrimaryDiskTypeName\n",
      "44 Census_SystemVolumeTotalCapacity\n",
      "45 Census_HasOpticalDiskDrive\n",
      "46 Census_TotalPhysicalRAM\n",
      "47 Census_ChassisTypeName\n",
      "48 Census_InternalPrimaryDiagonalDisplaySizeInInches\n",
      "49 Census_InternalPrimaryDisplayResolutionHorizontal\n",
      "50 Census_InternalPrimaryDisplayResolutionVertical\n",
      "51 Census_PowerPlatformRoleName\n",
      "52 Census_InternalBatteryType\n",
      "53 Census_InternalBatteryNumberOfCharges\n",
      "54 Census_OSVersion\n",
      "55 Census_OSArchitecture\n",
      "56 Census_OSBranch\n",
      "57 Census_OSBuildNumber\n",
      "58 Census_OSBuildRevision\n",
      "59 Census_OSEdition\n",
      "60 Census_OSSkuName\n",
      "61 Census_OSInstallTypeName\n",
      "62 Census_OSInstallLanguageIdentifier\n",
      "63 Census_OSUILocaleIdentifier\n",
      "64 Census_OSWUAutoUpdateOptionsName\n",
      "65 Census_IsPortableOperatingSystem\n",
      "66 Census_GenuineStateName\n",
      "67 Census_ActivationChannel\n",
      "68 Census_IsFlightingInternal\n",
      "69 Census_IsFlightsDisabled\n",
      "70 Census_FlightRing\n",
      "71 Census_ThresholdOptIn\n",
      "72 Census_FirmwareManufacturerIdentifier\n",
      "73 Census_FirmwareVersionIdentifier\n",
      "74 Census_IsSecureBootEnabled\n",
      "75 Census_IsWIMBootEnabled\n",
      "76 Census_IsVirtualDevice\n",
      "77 Census_IsTouchEnabled\n",
      "78 Census_IsPenCapable\n",
      "79 Census_IsAlwaysOnAlwaysConnectedCapable\n",
      "80 Wdft_IsGamer\n",
      "81 Wdft_RegionIdentifier\n",
      "82 HasDetections\n"
     ]
    }
   ],
   "source": [
    "def print_indices():\n",
    "    i = 0\n",
    "    for column in df.columns:\n",
    "        print(i, column)\n",
    "        i = i + 1\n",
    "print_indices()"
   ]
  },
  {
   "cell_type": "markdown",
   "metadata": {},
   "source": [
    "# Model 1 - AV Products Installed"
   ]
  },
  {
   "cell_type": "code",
   "execution_count": 11,
   "metadata": {},
   "outputs": [],
   "source": [
    "AVProductsInstalledIdx = 10\n",
    "\n",
    "class GetAndImputeAVProductsInstalled(BaseEstimator, TransformerMixin):\n",
    "    def __init__(self, uses_impute_average=True):\n",
    "        self.uses_impute_average = uses_impute_average\n",
    "        self.impute_value = None\n",
    "        \n",
    "    def fit(self, X, y=None):\n",
    "        value = X[:, AVProductsInstalledIdx].astype(float)\n",
    "        if self.uses_impute_average:\n",
    "            self.impute_value = np.nanmean(value)\n",
    "        else:\n",
    "            self.impute_value = 2.0\n",
    "        return self\n",
    "    \n",
    "    def transform(self, X, y=None):\n",
    "        value = X[:, AVProductsInstalledIdx].astype(float)\n",
    "        value[np.isnan(value)] = self.impute_value\n",
    "        return np.c_[value]\n"
   ]
  },
  {
   "cell_type": "code",
   "execution_count": 63,
   "metadata": {},
   "outputs": [
    {
     "name": "stdout",
     "output_type": "stream",
     "text": [
      "AUC 0.5693117661532048\n",
      "Grid: {'get_and_impute_av_products_installed__uses_impute_average': False}\n"
     ]
    },
    {
     "data": {
      "image/png": "[encoded data removed]",
      "text/plain": [
       "<Figure size 432x288 with 1 Axes>"
      ]
     },
     "metadata": {
      "needs_background": "light"
     },
     "output_type": "display_data"
    },
    {
     "name": "stdout",
     "output_type": "stream",
     "text": [
      "AUC =  0.5693117661532048\n"
     ]
    }
   ],
   "source": [
    "# Pipeline\n",
    "pipe = Pipeline([\n",
    "    ('get_and_impute_av_products_installed', GetAndImputeAVProductsInstalled()),\n",
    "    ('clf', simple_clf)\n",
    "])\n",
    "\n",
    "# # Parameters\n",
    "param_grid = [{'get_and_impute_av_products_installed__uses_impute_average': [True, False]}]\n",
    "best_score, best_grid = try_param_grid(pipe, param_grid)\n",
    "\n",
    "pipe.set_params(**best_grid)\n",
    "my_score_function(pipe)"
   ]
  },
  {
   "cell_type": "markdown",
   "metadata": {},
   "source": [
    "# Model 2 - Monitor Size"
   ]
  },
  {
   "cell_type": "code",
   "execution_count": 93,
   "metadata": {},
   "outputs": [],
   "source": [
    "Census_InternalPrimaryDiagonalDisplaySizeInInchesIdx = 48\n",
    "\n",
    "class GetDiagonalMonitorFeatures(BaseEstimator, TransformerMixin):\n",
    "    def __init__(self, impute_method=\"mean\", \n",
    "                 add_is_tiny_monitor_feature=True,\n",
    "                 add_is_large_monitor_feature=True,\n",
    "                 drop_original_feature=False                 \n",
    "                ):\n",
    "        # impute is mean, median, or 13.9\n",
    "        self.impute_method = impute_method\n",
    "        self.add_is_tiny_monitor_feature = add_is_tiny_monitor_feature\n",
    "        self.add_is_large_monitor_feature = add_is_large_monitor_feature\n",
    "        self.drop_original_feature = drop_original_feature\n",
    "        self.impute_value = None\n",
    "        \n",
    "    def fit(self, X, y=None):\n",
    "        value = X[:, Census_InternalPrimaryDiagonalDisplaySizeInInchesIdx].astype(float)\n",
    "        if self.impute_method == \"mean\":\n",
    "            self.impute_value = np.nanmean(value)\n",
    "        elif self.impute_method == \"median\":\n",
    "            self.impute_value = np.nanmedian(value)\n",
    "        else:\n",
    "            self.impute_value = 13.9\n",
    "        return self\n",
    "    \n",
    "    def transform(self, X, y=None):           \n",
    "        # Impute\n",
    "        value = X[:, AVProductsInstalledIdx].astype(float)\n",
    "        value[np.isnan(value)] = self.impute_value\n",
    "        \n",
    "        # Output variable\n",
    "        output = np.c_[value]\n",
    "        \n",
    "        # Tiny monitor\n",
    "        if self.add_is_tiny_monitor_feature:\n",
    "            is_tiny_monitor = value <= 13.2            \n",
    "            output = np.c_[output, is_tiny_monitor]\n",
    "        \n",
    "        # Large monitor\n",
    "        if self.add_is_large_monitor_feature:\n",
    "            is_large_monitor = value > 18.7\n",
    "            output = np.c_[output, is_large_monitor]\n",
    "                            \n",
    "        # Drop original feature (Don't allow it to be dropped if only feature)\n",
    "        if self.drop_original_feature and output.shape[1] > 1:\n",
    "            return output[:, 1:]\n",
    "        else:\n",
    "            return output        \n"
   ]
  },
  {
   "cell_type": "code",
   "execution_count": 143,
   "metadata": {},
   "outputs": [
    {
     "name": "stdout",
     "output_type": "stream",
     "text": [
      "Fitting {'get_diagonal_monitor_features__add_is_large_monitor_feature': True, 'get_diagonal_monitor_features__add_is_tiny_monitor_feature': True, 'get_diagonal_monitor_features__drop_original_feature': True, 'get_diagonal_monitor_features__impute_method': 'mean'}\n",
      "Fitting {'get_diagonal_monitor_features__add_is_large_monitor_feature': True, 'get_diagonal_monitor_features__add_is_tiny_monitor_feature': True, 'get_diagonal_monitor_features__drop_original_feature': True, 'get_diagonal_monitor_features__impute_method': 'median'}\n",
      "Fitting {'get_diagonal_monitor_features__add_is_large_monitor_feature': True, 'get_diagonal_monitor_features__add_is_tiny_monitor_feature': True, 'get_diagonal_monitor_features__drop_original_feature': True, 'get_diagonal_monitor_features__impute_method': '13.9'}\n",
      "Fitting {'get_diagonal_monitor_features__add_is_large_monitor_feature': True, 'get_diagonal_monitor_features__add_is_tiny_monitor_feature': True, 'get_diagonal_monitor_features__drop_original_feature': False, 'get_diagonal_monitor_features__impute_method': 'mean'}\n",
      "Fitting {'get_diagonal_monitor_features__add_is_large_monitor_feature': True, 'get_diagonal_monitor_features__add_is_tiny_monitor_feature': True, 'get_diagonal_monitor_features__drop_original_feature': False, 'get_diagonal_monitor_features__impute_method': 'median'}\n",
      "Fitting {'get_diagonal_monitor_features__add_is_large_monitor_feature': True, 'get_diagonal_monitor_features__add_is_tiny_monitor_feature': True, 'get_diagonal_monitor_features__drop_original_feature': False, 'get_diagonal_monitor_features__impute_method': '13.9'}\n",
      "Fitting {'get_diagonal_monitor_features__add_is_large_monitor_feature': True, 'get_diagonal_monitor_features__add_is_tiny_monitor_feature': False, 'get_diagonal_monitor_features__drop_original_feature': True, 'get_diagonal_monitor_features__impute_method': 'mean'}\n",
      "Fitting {'get_diagonal_monitor_features__add_is_large_monitor_feature': True, 'get_diagonal_monitor_features__add_is_tiny_monitor_feature': False, 'get_diagonal_monitor_features__drop_original_feature': True, 'get_diagonal_monitor_features__impute_method': 'median'}\n",
      "Fitting {'get_diagonal_monitor_features__add_is_large_monitor_feature': True, 'get_diagonal_monitor_features__add_is_tiny_monitor_feature': False, 'get_diagonal_monitor_features__drop_original_feature': True, 'get_diagonal_monitor_features__impute_method': '13.9'}\n",
      "Fitting {'get_diagonal_monitor_features__add_is_large_monitor_feature': True, 'get_diagonal_monitor_features__add_is_tiny_monitor_feature': False, 'get_diagonal_monitor_features__drop_original_feature': False, 'get_diagonal_monitor_features__impute_method': 'mean'}\n",
      "Fitting {'get_diagonal_monitor_features__add_is_large_monitor_feature': True, 'get_diagonal_monitor_features__add_is_tiny_monitor_feature': False, 'get_diagonal_monitor_features__drop_original_feature': False, 'get_diagonal_monitor_features__impute_method': 'median'}\n",
      "Fitting {'get_diagonal_monitor_features__add_is_large_monitor_feature': True, 'get_diagonal_monitor_features__add_is_tiny_monitor_feature': False, 'get_diagonal_monitor_features__drop_original_feature': False, 'get_diagonal_monitor_features__impute_method': '13.9'}\n",
      "Fitting {'get_diagonal_monitor_features__add_is_large_monitor_feature': False, 'get_diagonal_monitor_features__add_is_tiny_monitor_feature': True, 'get_diagonal_monitor_features__drop_original_feature': True, 'get_diagonal_monitor_features__impute_method': 'mean'}\n",
      "Fitting {'get_diagonal_monitor_features__add_is_large_monitor_feature': False, 'get_diagonal_monitor_features__add_is_tiny_monitor_feature': True, 'get_diagonal_monitor_features__drop_original_feature': True, 'get_diagonal_monitor_features__impute_method': 'median'}\n",
      "Fitting {'get_diagonal_monitor_features__add_is_large_monitor_feature': False, 'get_diagonal_monitor_features__add_is_tiny_monitor_feature': True, 'get_diagonal_monitor_features__drop_original_feature': True, 'get_diagonal_monitor_features__impute_method': '13.9'}\n",
      "Fitting {'get_diagonal_monitor_features__add_is_large_monitor_feature': False, 'get_diagonal_monitor_features__add_is_tiny_monitor_feature': True, 'get_diagonal_monitor_features__drop_original_feature': False, 'get_diagonal_monitor_features__impute_method': 'mean'}\n",
      "Fitting {'get_diagonal_monitor_features__add_is_large_monitor_feature': False, 'get_diagonal_monitor_features__add_is_tiny_monitor_feature': True, 'get_diagonal_monitor_features__drop_original_feature': False, 'get_diagonal_monitor_features__impute_method': 'median'}\n",
      "Fitting {'get_diagonal_monitor_features__add_is_large_monitor_feature': False, 'get_diagonal_monitor_features__add_is_tiny_monitor_feature': True, 'get_diagonal_monitor_features__drop_original_feature': False, 'get_diagonal_monitor_features__impute_method': '13.9'}\n",
      "Fitting {'get_diagonal_monitor_features__add_is_large_monitor_feature': False, 'get_diagonal_monitor_features__add_is_tiny_monitor_feature': False, 'get_diagonal_monitor_features__drop_original_feature': True, 'get_diagonal_monitor_features__impute_method': 'mean'}\n",
      "Fitting {'get_diagonal_monitor_features__add_is_large_monitor_feature': False, 'get_diagonal_monitor_features__add_is_tiny_monitor_feature': False, 'get_diagonal_monitor_features__drop_original_feature': True, 'get_diagonal_monitor_features__impute_method': 'median'}\n",
      "Fitting {'get_diagonal_monitor_features__add_is_large_monitor_feature': False, 'get_diagonal_monitor_features__add_is_tiny_monitor_feature': False, 'get_diagonal_monitor_features__drop_original_feature': True, 'get_diagonal_monitor_features__impute_method': '13.9'}\n",
      "Fitting {'get_diagonal_monitor_features__add_is_large_monitor_feature': False, 'get_diagonal_monitor_features__add_is_tiny_monitor_feature': False, 'get_diagonal_monitor_features__drop_original_feature': False, 'get_diagonal_monitor_features__impute_method': 'mean'}\n",
      "Fitting {'get_diagonal_monitor_features__add_is_large_monitor_feature': False, 'get_diagonal_monitor_features__add_is_tiny_monitor_feature': False, 'get_diagonal_monitor_features__drop_original_feature': False, 'get_diagonal_monitor_features__impute_method': 'median'}\n",
      "Fitting {'get_diagonal_monitor_features__add_is_large_monitor_feature': False, 'get_diagonal_monitor_features__add_is_tiny_monitor_feature': False, 'get_diagonal_monitor_features__drop_original_feature': False, 'get_diagonal_monitor_features__impute_method': '13.9'}\n",
      "AUC 0.5693486271527028\n",
      "Grid: {'get_diagonal_monitor_features__add_is_large_monitor_feature': True, 'get_diagonal_monitor_features__add_is_tiny_monitor_feature': True, 'get_diagonal_monitor_features__drop_original_feature': False, 'get_diagonal_monitor_features__impute_method': 'mean'}\n"
     ]
    },
    {
     "data": {
      "image/png": "[encoded data removed]",
      "text/plain": [
       "<Figure size 432x288 with 1 Axes>"
      ]
     },
     "metadata": {
      "needs_background": "light"
     },
     "output_type": "display_data"
    },
    {
     "name": "stdout",
     "output_type": "stream",
     "text": [
      "AUC =  0.5693486271527028\n"
     ]
    }
   ],
   "source": [
    "# Pipeline\n",
    "pipe = Pipeline([\n",
    "    ('get_diagonal_monitor_features', GetDiagonalMonitorFeatures()),\n",
    "    ('clf', simple_clf)\n",
    "])\n",
    "\n",
    "# # Parameters\n",
    "param_grid = [{'get_diagonal_monitor_features__impute_method': [\"mean\", \"median\", \"13.9\"],\n",
    "              'get_diagonal_monitor_features__add_is_tiny_monitor_feature': [True, False],\n",
    "               'get_diagonal_monitor_features__add_is_large_monitor_feature': [True, False],\n",
    "               'get_diagonal_monitor_features__drop_original_feature': [True, False]\n",
    "              }]\n",
    "best_score, best_grid = try_param_grid(pipe, param_grid)\n",
    "\n",
    "pipe.set_params(**best_grid)\n",
    "my_score_function(pipe)"
   ]
  },
  {
   "cell_type": "markdown",
   "metadata": {},
   "source": [
    "# Model 3 - Combining"
   ]
  },
  {
   "cell_type": "code",
   "execution_count": 98,
   "metadata": {},
   "outputs": [
    {
     "data": {
      "image/png": "[encoded data removed]",
      "text/plain": [
       "<Figure size 432x288 with 1 Axes>"
      ]
     },
     "metadata": {
      "needs_background": "light"
     },
     "output_type": "display_data"
    },
    {
     "name": "stdout",
     "output_type": "stream",
     "text": [
      "AUC =  0.5693138476548648\n"
     ]
    }
   ],
   "source": [
    "pipe1 = Pipeline([\n",
    "    ('get_and_impute_av_products_installed', GetAndImputeAVProductsInstalled())\n",
    "])\n",
    "g = {'get_and_impute_av_products_installed__uses_impute_average': False}\n",
    "pipe1.set_params(**g)\n",
    "\n",
    "pipe2 = Pipeline([\n",
    "    ('get_diagonal_monitor_features', GetDiagonalMonitorFeatures())\n",
    "])\n",
    "g = {'get_diagonal_monitor_features__add_is_large_monitor_feature': False, 'get_diagonal_monitor_features__add_is_tiny_monitor_feature': False, 'get_diagonal_monitor_features__drop_original_feature': False, 'get_diagonal_monitor_features__impute_method': 'mean'}\n",
    "pipe2.set_params(**g)\n",
    "\n",
    "\n",
    "union = FeatureUnion([#(\"pipe_one\", pipe1)\n",
    "                      (\"pipe_two\", pipe2)\n",
    "                     ])\n",
    "\n",
    "pipe = Pipeline([\n",
    "    ('union', union),\n",
    "    ('scale', StandardScaler()),\n",
    "    ('clf', simple_clf)  \n",
    "])\n",
    "\n",
    "my_score_function(pipe)\n",
    "    "
   ]
  },
  {
   "cell_type": "markdown",
   "metadata": {},
   "source": [
    "Learned that the first two variables are highly correlated (one way is from a scatter plot), and diagonal monitor has slightly better results when it is reduced to one variable, and has a bit of improvement with the boolean features.  Deciding to drop the monitor size anyway because the AVProductsInstalled makes more sense as a feature going forward into the test set."
   ]
  },
  {
   "cell_type": "markdown",
   "metadata": {},
   "source": [
    "# Model 4 - Is Gamer"
   ]
  },
  {
   "cell_type": "code",
   "execution_count": 100,
   "metadata": {},
   "outputs": [],
   "source": [
    "Wdft_IsGamerIdx = 80\n",
    "\n",
    "class GetIsGamerFeatures(BaseEstimator, TransformerMixin):\n",
    "    def __init__(self, add_if_null_feature=False             \n",
    "                ):\n",
    "        # impute is mean, median, or 13.9\n",
    "        self.add_if_null_feature = add_if_null_feature\n",
    "        \n",
    "    def fit(self, X, y=None):\n",
    "        return self\n",
    "    \n",
    "    def transform(self, X, y=None):           \n",
    "        value = X[:, Wdft_IsGamerIdx].astype(float)                \n",
    "        \n",
    "        is_gamer = value == 1\n",
    "        \n",
    "        # If Null Feature\n",
    "        if self.add_if_null_feature:\n",
    "            is_gamer_is_null = np.isnan(value)\n",
    "            return np.c_[is_gamer, is_gamer_is_null]\n",
    "        else:\n",
    "            return np.c_[is_gamer]                                 \n"
   ]
  },
  {
   "cell_type": "code",
   "execution_count": 104,
   "metadata": {},
   "outputs": [
    {
     "name": "stdout",
     "output_type": "stream",
     "text": [
      "Fitting\n",
      "AUC 0.5230293900576614\n",
      "Grid: {'get_is_gamer_features__add_if_null_feature': False}\n"
     ]
    },
    {
     "data": {
      "image/png": "[encoded data removed]",
      "text/plain": [
       "<Figure size 432x288 with 1 Axes>"
      ]
     },
     "metadata": {
      "needs_background": "light"
     },
     "output_type": "display_data"
    },
    {
     "name": "stdout",
     "output_type": "stream",
     "text": [
      "AUC =  0.5230293900576614\n"
     ]
    }
   ],
   "source": [
    "# Pipeline\n",
    "pipe = Pipeline([\n",
    "    ('get_is_gamer_features', GetIsGamerFeatures()),\n",
    "    ('clf', simple_clf)\n",
    "])\n",
    "\n",
    "# # Parameters\n",
    "param_grid = [{'get_is_gamer_features__add_if_null_feature': [True, False]\n",
    "              }]\n",
    "best_score, best_grid = try_param_grid(pipe, param_grid)\n",
    "\n",
    "pipe.set_params(**best_grid)\n",
    "my_score_function(pipe)"
   ]
  },
  {
   "cell_type": "markdown",
   "metadata": {},
   "source": [
    "It is a difference between .5230 and .5248 (0.0018) to include the null feature.  I will not include it for now, but come back for it later if experimenting"
   ]
  },
  {
   "cell_type": "markdown",
   "metadata": {},
   "source": [
    "# Model 5 - Combining"
   ]
  },
  {
   "cell_type": "code",
   "execution_count": 109,
   "metadata": {},
   "outputs": [
    {
     "data": {
      "image/png": "[encoded data removed]",
      "text/plain": [
       "<Figure size 432x288 with 1 Axes>"
      ]
     },
     "metadata": {
      "needs_background": "light"
     },
     "output_type": "display_data"
    },
    {
     "name": "stdout",
     "output_type": "stream",
     "text": [
      "AUC =  0.5843124783827541\n"
     ]
    }
   ],
   "source": [
    "pipe1 = Pipeline([\n",
    "    ('get_and_impute_av_products_installed', GetAndImputeAVProductsInstalled())\n",
    "])\n",
    "g = {'get_and_impute_av_products_installed__uses_impute_average': False}\n",
    "pipe1.set_params(**g)\n",
    "\n",
    "pipe2 = Pipeline([\n",
    "    ('get_is_gamer_features', GetIsGamerFeatures())\n",
    "])\n",
    "g = {'get_is_gamer_features__add_if_null_feature': False}\n",
    "pipe2.set_params(**g)\n",
    "\n",
    "\n",
    "union = FeatureUnion([(\"pipe_one\", pipe1),\n",
    "                      (\"pipe_two\", pipe2)\n",
    "                     ])\n",
    "\n",
    "pipe = Pipeline([\n",
    "    ('union', union),\n",
    "    ('scale', StandardScaler()),\n",
    "    ('clf', simple_clf)  \n",
    "])\n",
    "\n",
    "my_score_function(pipe)\n",
    "    "
   ]
  },
  {
   "cell_type": "markdown",
   "metadata": {},
   "source": [
    "AUC = .5843, an improvement of 0.015 over the original 0.5693"
   ]
  },
  {
   "cell_type": "markdown",
   "metadata": {},
   "source": [
    "I will hold out and not include is_gamer into the model yet, perhaps later on when looking to increase the score a bit more.  I don't want to complicate things until it truely seems worth it to add it"
   ]
  },
  {
   "cell_type": "markdown",
   "metadata": {},
   "source": [
    "# To Try Next"
   ]
  },
  {
   "cell_type": "markdown",
   "metadata": {},
   "source": [
    "Check featexp:\n",
    "\n",
    "- IsGamer\n",
    "- internal battery\n",
    "- build number\n",
    "- OSBuild\n",
    "- OsSuite\n",
    "- istouch\n",
    "- isalwaysconnected\n",
    "- is protected\n",
    "- core processor count\n",
    "- ram\n",
    "- system volume capacity\n",
    "- primary disk total\n",
    "- osbuildrevision\n",
    "\n",
    "ignore for now:\n",
    "\n",
    "- ispencapable\n",
    "\n",
    "\n",
    "Promising to try next:\n",
    "\n",
    "- "
   ]
  },
  {
   "cell_type": "markdown",
   "metadata": {},
   "source": [
    "# Junk"
   ]
  },
  {
   "cell_type": "markdown",
   "metadata": {},
   "source": [
    "## Confusion Matrix"
   ]
  },
  {
   "cell_type": "code",
   "execution_count": 99,
   "metadata": {},
   "outputs": [],
   "source": [
    "# # Fit\n",
    "# pipe.fit(train_X, train_y)\n",
    "# # decision function\n",
    "# y_pred = pipe.predict(dev_X)\n",
    "\n",
    "# from sklearn.metrics import confusion_matrix\n",
    "# confusion_matrix(dev_y, y_pred)\n"
   ]
  },
  {
   "cell_type": "code",
   "execution_count": null,
   "metadata": {},
   "outputs": [],
   "source": []
  }
 ],
 "metadata": {
  "kernelspec": {
   "display_name": "commons",
   "language": "python",
   "name": "commons"
  },
  "language_info": {
   "codemirror_mode": {
    "name": "ipython",
    "version": 3
   },
   "file_extension": ".py",
   "mimetype": "text/x-python",
   "name": "python",
   "nbconvert_exporter": "python",
   "pygments_lexer": "ipython3",
   "version": "3.6.5"
  },
  "toc": {
   "base_numbering": 1,
   "nav_menu": {},
   "number_sections": true,
   "sideBar": true,
   "skip_h1_title": false,
   "title_cell": "Table of Contents",
   "title_sidebar": "Contents",
   "toc_cell": false,
   "toc_position": {},
   "toc_section_display": true,
   "toc_window_display": false
  }
 },
 "nbformat": 4,
 "nbformat_minor": 2
}
